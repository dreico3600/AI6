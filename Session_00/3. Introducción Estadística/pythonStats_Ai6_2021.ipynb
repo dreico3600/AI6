{
  "nbformat": 4,
  "nbformat_minor": 0,
  "metadata": {
    "kernelspec": {
      "name": "python3",
      "display_name": "Python 3",
      "language": "python"
    },
    "language_info": {
      "name": "python",
      "version": "3.7.8",
      "mimetype": "text/x-python",
      "codemirror_mode": {
        "name": "ipython",
        "version": 3
      },
      "pygments_lexer": "ipython3",
      "nbconvert_exporter": "python",
      "file_extension": ".py"
    },
    "colab": {
      "name": "pythonStats_Ai6_2021.ipynb",
      "provenance": [],
      "collapsed_sections": [],
      "toc_visible": true,
      "include_colab_link": true
    }
  },
  "cells": [
    {
      "cell_type": "markdown",
      "metadata": {
        "id": "view-in-github",
        "colab_type": "text"
      },
      "source": [
        "<a href=\"https://colab.research.google.com/github/dreico3600/AI6/blob/main/Session_00/3.%20Introducci%C3%B3n%20Estad%C3%ADstica/pythonStats_Ai6_2021.ipynb\" target=\"_parent\"><img src=\"https://colab.research.google.com/assets/colab-badge.svg\" alt=\"Open In Colab\"/></a>"
      ]
    },
    {
      "cell_type": "markdown",
      "metadata": {
        "id": "1CxZHMb9crkC"
      },
      "source": [
        "# Probabilidad y Estadística con Python"
      ]
    },
    {
      "cell_type": "markdown",
      "metadata": {
        "id": "2ihT5AP0crkY"
      },
      "source": [
        "<img alt=\"Estadistica\" title=\"Estadistica\" src=\"https://relopezbriega.github.io/images/stats.png\" width=\"700\">"
      ]
    },
    {
      "cell_type": "markdown",
      "metadata": {
        "id": "CSodVDUocrkZ"
      },
      "source": [
        "Actualmente con el boom de la [Big Data](https://es.wikipedia.org/wiki/Big_data), tener nociones de *[probabilidad](https://es.wikipedia.org/wiki/Probabilidad)* y *[estadística](https://es.wikipedia.org/wiki/Estad%C3%ADstica)*  se ha hecho fundamental. \n",
        "\n",
        "En los últimos años ha habido un resurgimiento de todo lo relacionado con *[estadística](https://es.wikipedia.org/wiki/Estad%C3%ADstica)* , *[data mining](https://es.wikipedia.org/wiki/Miner%C3%ADa_de_datos)* y *[machine learning](https://es.wikipedia.org/wiki/Aprendizaje_autom%C3%A1tico)* empujados principalmente por la explosión de datos con que contamos, estos conceptos combinados forman la base de lo que actualmente se conoce como la *[Ciencia de Datos](https://en.wikipedia.org/wiki/Data_science)*. \n",
        "\n",
        "Dentro de este contexto, [Python](https://python.org/) es uno de los lenguajes que más nos facilita trabajar con datos. Realizar complejos análisis estadísticos nunca fue tan fácil como con [Python](https://python.org/)!\n"
      ]
    },
    {
      "cell_type": "markdown",
      "metadata": {
        "id": "mMhqh8DGcrkZ"
      },
      "source": [
        "## ¿Qué es la Estadística?\n",
        "\n",
        "La *[estadística](https://es.wikipedia.org/wiki/Estad%C3%ADstica)* suele ser definida como la ciencia de aprender de los *[datos](https://es.wikipedia.org/wiki/Dato)* o como la ciencia de obtener conclusiones en la presencia de incertidumbre. \n",
        "\n",
        "Se relaciona principalmente con la recolección, análisis e interpretación de *[datos](https://es.wikipedia.org/wiki/Dato)*, así como también con la efectiva comunicación y presentación de los resultados basados en esos *[datos](https://es.wikipedia.org/wiki/Dato)*. \n",
        "\n",
        "Como por *[datos](https://es.wikipedia.org/wiki/Dato)* entendemos a cualquier clase de información grabada, la *[estadística](https://es.wikipedia.org/wiki/Estad%C3%ADstica)* juego un rol importante en muchas disciplinas científicas.\n",
        "\n",
        "La *[estadística](https://es.wikipedia.org/wiki/Estad%C3%ADstica)* puede ser muy importante para una efectiva toma de decisiones. \n",
        "\n",
        "Existe una gran cantidad de valiosa información escondida entre los *[datos](https://es.wikipedia.org/wiki/Dato)*, pero esta información no suele ser fácilmente accesible, la *[estadística](https://es.wikipedia.org/wiki/Estad%C3%ADstica)* nos brinda los principios fundamentales que nos permiten extraer y entender esa información; tambien nos proporciona las herramientas necesarias para verificar la calidad de nuestros *[datos](https://es.wikipedia.org/wiki/Dato)* y nuestra información.\n",
        "\n",
        "La *[estadística](https://es.wikipedia.org/wiki/Estad%C3%ADstica)* suele ser dividida en dos grandes ramas:\n",
        "\n",
        "1. La *[estadística descriptiva](https://es.wikipedia.org/wiki/Estad%C3%ADstica_descriptiva)*: La cual se dedica a recolectar, ordenar, analizar y representar a un [conjunto de datos](https://es.wikipedia.org/wiki/Conjunto_de_datos), con el fin de describir apropiadamente las características de este. Calcula los parámetros estadísticos que describen el conjunto estudiado. Algunas de las herramientas que utiliza son gráficos, medidas de frecuencias, medidas de centralización, medidas de posición, medidas de dispersión, entre otras.\n",
        "\n",
        "2. La *[estadistica inferencial](https://es.wikipedia.org/wiki/Estad%C3%ADstica_inferencial)*: La cual estudia cómo sacar conclusiones generales para toda la [población](https://es.wikipedia.org/wiki/Poblaci%C3%B3n_estad%C3%ADstica) a partir del estudio de una <a href=\"https://es.wikipedia.org/wiki/Muestreo_(estad%C3%ADstica)\">muestra</a>, y el grado de fiabilidad o significación de los resultados obtenidos. Sus principales herramientas son el <a href=\"https://es.wikipedia.org/wiki/Muestreo_(estad%C3%ADstica)\">muestreo</a>, la estimación de parámetros y el contraste de hipótesis."
      ]
    },
    {
      "cell_type": "markdown",
      "metadata": {
        "id": "MCM81Q9qcrkb"
      },
      "source": [
        "## Actividades básicas del analisis estadístico\n",
        "\n",
        "Las técnicas *[estadísticas](https://es.wikipedia.org/wiki/Estad%C3%ADstica)* deberían ser vistas como una parte importante de cualquier proceso de toma de dicisiones, permitiendo tomar decisiones estratégicamente informadas que combinen intuición con experiencia y un entendimiento *[estadístico](https://es.wikipedia.org/wiki/Estad%C3%ADstica)* de los *[datos](https://es.wikipedia.org/wiki/Dato)* que tenemos disponibles.\n",
        "\n",
        "Un análisis estadístico suele contener 5 actividades básicas:\n",
        "\n",
        "1. **Diseño del análisis**: Esta actividad involucra el planeamiento de los detalles para obtener los datos que necesitamos y la generación de la hipótesis a ser evaluada. \n",
        "\n",
        "2. **Exploración de datos**: En esta actividad nos dedicamos a jugar con nuestros datos, los describimos, los resumimos, realizamos gráficos para mirarlos desde distintos ángulos. Esta exploración nos ayuda a asegurarnos que los datos que obtuvimos son completos y que la etapa de diseño fue correcta.\n",
        "\n",
        "3. **Armado del modelo**: En esta actividad intentamos armar un modelo que explique el comportamiento de nuestros datos y pueda llegar a hacer predicciones sobre los mismos. La idea es que el modelo pueda describir las propiedades fundamentales de nuestros datos.\n",
        "\n",
        "4. **Realizar estimaciones**: Aquí vamos a intentar realizar estimaciones basadas en el modelo que armamos anteriormente. También vamos a intentar estimar el tamaño del error que nuestro modelo puede tener en sus predicciones.\n",
        "\n",
        "5. **Contraste de la hipótesis**: Esta actividad es la que va a producir la decisión final sobre si las predicciones del modelo son correctas y ayudarnos a concluir si los datos que poseemos confirman o rechazan la hipótesis que generamos en la actividad 1."
      ]
    },
    {
      "cell_type": "markdown",
      "metadata": {
        "id": "5R0b-7KQcrkc"
      },
      "source": [
        "## Conceptos básicos de la estadística descriptiva\n",
        "\n",
        "En *[estadística descriptiva](https://es.wikipedia.org/wiki/Estad%C3%ADstica_descriptiva)* se utilizan distintas medidas para intentar describir las propiedades de nuestros datos, algunos de los conceptos básicos, son:\n",
        "\n",
        "* **Media aritmética**: La [media aritmética](https://es.wikipedia.org/wiki/Media_aritm%C3%A9tica) es el valor obtenido al sumar todos los *[datos](https://es.wikipedia.org/wiki/Dato)* y dividir el resultado entre el número total elementos. Se suele representar con la letra griega $\\mu$. Si tenemos una [muestra](https://es.wikipedia.org/wiki/Muestra_estad%C3%ADstica) de $n$ valores, $x_i$, la *media aritmética*, $\\mu$, es la suma de los valores divididos por el numero de elementos; en otras palabras:\n",
        "$$\\mu = \\frac{1}{n} \\sum_{i}x_i$$\n",
        "\n",
        "\n",
        "* **Desviación respecto a la media**: La desviación respecto a la media es la diferencia en valor absoluto entre cada valor de la variable estadística y la media aritmética.\n",
        "$$D_i = |x_i - \\mu|$$\n",
        "\n",
        "\n",
        "* **Varianza**: La [varianza](https://es.wikipedia.org/wiki/Varianza) es la media aritmética del cuadrado de las desviaciones respecto a la media de una distribución estadística. La varianza intenta describir la dispersión de los *[datos](https://es.wikipedia.org/wiki/Dato)*. Se representa como $\\sigma^2$. \n",
        "$$\\sigma^2 = \\frac{\\sum\\limits_{i=1}^n(x_i - \\mu)^2}{n} $$\n",
        "\n",
        "\n",
        "* **Desviación típica**: La [desviación típica](https://es.wikipedia.org/wiki/Desviaci%C3%B3n_t%C3%ADpica) es la raíz cuadrada de la varianza. Se representa con la letra griega $\\sigma$.\n",
        "$$\\sigma = \\sqrt{\\frac{\\sum\\limits_{i=1}^n(x_i - \\mu)^2}{n}} $$\n",
        "\n",
        "\n",
        "* **Moda**: La <a href=\"https://es.wikipedia.org/wiki/Moda_(estad%C3%ADstica)\">moda</a> es el valor que tiene mayor frecuencia absoluta. Se representa con $M_0$\n",
        "\n",
        "\n",
        "* **Mediana**: La <a href=\"https://es.wikipedia.org/wiki/Mediana_(estad%C3%ADstica)\">mediana</a> es el valor que ocupa el lugar central de todos los datos cuando éstos están ordenados de menor a mayor. Se representa con $\\widetilde{x}$.\n",
        "\n",
        "\n",
        "* **Correlación**: La [correlación](https://es.wikipedia.org/wiki/Correlaci%C3%B3n) trata de establecer la relación o dependencia que existe entre las dos variables que intervienen en una distribución bidimensional. Es decir, determinar si los cambios en una de las variables influyen en los cambios de la otra. En caso de que suceda, diremos que las variables están correlacionadas o que hay correlación entre ellas. La correlación es positiva cuando los valores de las variables aumenta juntos; y es negativa cuando un valor de una variable se reduce cuando el valor de la otra variable aumenta.\n",
        "\n",
        "\n",
        "* **Covarianza**: La [covarianza](https://es.wikipedia.org/wiki/Covarianza) es el equivalente de la varianza aplicado a una variable bidimensional. Es la media aritmética de los productos de las desviaciones de cada una de las variables respecto a sus medias respectivas.La covarianza indica el sentido de la correlación entre las variables; Si $\\sigma_{xy} > 0$ la correlación es directa; Si $\\sigma_{xy} < 0$ la correlación es inversa.\n",
        "\n",
        "$$\\sigma_{xy} = \\frac{\\sum\\limits_{i=1}^n(x_i - \\mu_x)(y_i -\\mu_y)}{n}$$\n",
        "\n",
        "\n",
        "* **Valor atípico**: Un [valor atípico](https://es.wikipedia.org/wiki/Valor_at%C3%ADpico) es una observación que se aleja demasiado de la moda; esta muy lejos de la tendencia principal del resto de los *[datos](https://es.wikipedia.org/wiki/Dato)*. Pueden ser causados por errores en la recolección de *[datos](https://es.wikipedia.org/wiki/Dato)* o medidas inusuales. Generalmente se recomienda eliminarlos del [conjunto de datos](https://es.wikipedia.org/wiki/Conjunto_de_datos).\n"
      ]
    },
    {
      "cell_type": "markdown",
      "metadata": {
        "id": "lJjEBAR6crkd"
      },
      "source": [
        "## Librerías de Python para probabilidad y estadística\n",
        "\n",
        "Como ya les vengo mostrando en mis anteriores artículos, [Python](https://python.org/) se lleva muy bien con las matemáticas. Además, la [comunidad python](https://www.python.org/community/) es tan amplia que solemos encontrar una librería para cualquier problema al que nos enfrentemos. En este caso, los principales módulos que [Python](https://python.org/) nos ofrece para trabajar con *[probabilidad](https://es.wikipedia.org/wiki/Probabilidad)* y *[estadística](https://es.wikipedia.org/wiki/Estad%C3%ADstica)*, son:\n",
        "\n",
        "* **[numpy](https://www.numpy.org/)**: El popular paquete matemático de [Python](https://python.org/), se utiliza tanto que mucha gente ya lo considera parte integral del lenguaje. Nos proporciona algunas funciones estadísticas que podemos aplicar fácilmente sobre los *arrays* de [Numpy](https://www.numpy.org/).\n",
        "\n",
        "* **[scipy.stats](https://docs.scipy.org/doc/scipy/reference/tutorial/stats.html)**: Este submodulo del paquete científico [Scipy](https://docs.scipy.org/doc/scipy/reference/index.html) es el complemento perfecto para [Numpy](https://www.numpy.org/), las funciones estadisticas que no encontremos en uno, las podemos encontrar en el otro.\n",
        "\n",
        "* **[statsmodels](https://statsmodels.sourceforge.net/)**: Esta librería nos brinda un gran número de herramientas para explorar *[datos](https://es.wikipedia.org/wiki/Dato)*, estimar modelos estadísticos, realizar pruebas estadísticas y muchas cosas más.\n",
        "\n",
        "* **[matplotlib](https://matplotlib.org/)**: Es la librería más popular en [Python](https://python.org/) para visualizaciones y gráficos. Ella nos va a permitir realizar los gráficos de las distintas distribuciones de datos.\n",
        "\n",
        "* **[seaborn](https://stanford.edu/~mwaskom/software/seaborn/)**: Esta librería es un complemento ideal de [matplotlib](https://matplotlib.org/) para realizar gráficos estadísticos.\n",
        "\n",
        "* **[pandas](https://pandas.pydata.org/)**: Esta es la librería más popular para análisis de *[datos](https://es.wikipedia.org/wiki/Dato)* y financieros. Posee algunas funciones muy útiles para realizar *[estadística descriptiva](https://es.wikipedia.org/wiki/Estad%C3%ADstica_descriptiva)* sobre nuestros datos y nos facilita sobremanera el trabajar con [series de tiempo](https://es.wikipedia.org/wiki/Serie_temporal). \n",
        "\n",
        "* **[pyMC](https://pymc-devs.github.io/pymc/index.html)**: [pyMC](https://pymc-devs.github.io/pymc/index.html) es un módulo de [Python](https://python.org/) que implementa modelos estadísticos bayesianos, incluyendo la [cadena de Markov Monte Carlo(MCMC)](https://en.wikipedia.org/wiki/Markov_chain_Monte_Carlo). [pyMC](https://pymc-devs.github.io/pymc/index.html)  ofrece funcionalidades para hacer el análisis bayesiano lo mas simple posible."
      ]
    },
    {
      "cell_type": "markdown",
      "metadata": {
        "id": "KvMDHrBicrke"
      },
      "source": [
        "### Ejemplos en Python\n",
        "\n",
        "Calcular los principales indicadores de la *[estadística descriptiva](https://es.wikipedia.org/wiki/Estad%C3%ADstica_descriptiva)* con [Python](https://python.org/) es muy fácil!."
      ]
    },
    {
      "cell_type": "code",
      "metadata": {
        "collapsed": true,
        "trusted": false,
        "id": "C7GLSmdccrke"
      },
      "source": [
        "# Ejemplos de estadistica descriptiva con python\n",
        "\n"
      ],
      "execution_count": null,
      "outputs": []
    },
    {
      "cell_type": "code",
      "metadata": {
        "trusted": false,
        "id": "EoZ99K7Vcrkf",
        "outputId": "2fe7c571-5dd9-49a0-df9f-5f3947c4c1b3"
      },
      "source": [
        ""
      ],
      "execution_count": null,
      "outputs": [
        {
          "output_type": "execute_result",
          "data": {
            "text/plain": [
              "array([[ 0.46038022, -1.08942528, -0.62681496, -0.63329028],\n",
              "       [-0.1074033 , -0.88138082, -0.34466623, -0.28320214],\n",
              "       [ 0.94051171,  0.86693793,  1.20947882, -0.16894118],\n",
              "       [-0.12790177, -0.58099931, -0.46188426, -0.18148302],\n",
              "       [-0.76959435, -1.37414587,  1.37696874, -0.18040537]])"
            ]
          },
          "metadata": {
            "tags": []
          },
          "execution_count": 2
        }
      ]
    },
    {
      "cell_type": "code",
      "metadata": {
        "trusted": false,
        "id": "Q4ZrySXFcrkh",
        "outputId": "ac1e7fbf-9715-4dd0-f782-2591a656add8"
      },
      "source": [
        "# media arítmetica\n"
      ],
      "execution_count": null,
      "outputs": [
        {
          "output_type": "execute_result",
          "data": {
            "text/plain": [
              "-0.14786303590303568"
            ]
          },
          "metadata": {
            "tags": []
          },
          "execution_count": 3
        }
      ]
    },
    {
      "cell_type": "code",
      "metadata": {
        "trusted": false,
        "id": "_97Nx4wDcrki",
        "outputId": "6a7e9751-b6d7-44fb-bb82-6f7f50be04ca"
      },
      "source": [
        ""
      ],
      "execution_count": null,
      "outputs": [
        {
          "output_type": "execute_result",
          "data": {
            "text/plain": [
              "-0.14786303590303568"
            ]
          },
          "metadata": {
            "tags": []
          },
          "execution_count": 4
        }
      ]
    },
    {
      "cell_type": "code",
      "metadata": {
        "trusted": false,
        "id": "uKN7AUe3crkj",
        "outputId": "cc7670ea-4758-43a6-d573-22dfc69afe10"
      },
      "source": [
        ""
      ],
      "execution_count": null,
      "outputs": [
        {
          "output_type": "execute_result",
          "data": {
            "text/plain": [
              "array([-0.47228757, -0.40416312,  0.71199682, -0.33806709, -0.23679421])"
            ]
          },
          "metadata": {
            "tags": []
          },
          "execution_count": 5
        }
      ]
    },
    {
      "cell_type": "code",
      "metadata": {
        "trusted": false,
        "id": "H0VaDZKacrkk",
        "outputId": "7b1bd929-36c2-4343-a09c-ff3a0162fc6a"
      },
      "source": [
        ""
      ],
      "execution_count": null,
      "outputs": [
        {
          "output_type": "execute_result",
          "data": {
            "text/plain": [
              "array([ 0.0791985 , -0.61180267,  0.23061642, -0.2894644 ])"
            ]
          },
          "metadata": {
            "tags": []
          },
          "execution_count": 6
        }
      ]
    },
    {
      "cell_type": "code",
      "metadata": {
        "trusted": false,
        "id": "DiraOj--crkk",
        "outputId": "72a83d5c-c3d3-4e3b-f8e6-67f0e2e29479"
      },
      "source": [
        "# mediana\n"
      ],
      "execution_count": null,
      "outputs": [
        {
          "output_type": "execute_result",
          "data": {
            "text/plain": [
              "-0.23234258265023794"
            ]
          },
          "metadata": {
            "tags": []
          },
          "execution_count": 7
        }
      ]
    },
    {
      "cell_type": "code",
      "metadata": {
        "trusted": false,
        "id": "3YIHqKOtcrkl",
        "outputId": "67087084-9b79-4666-fc6a-657f1ba3c335"
      },
      "source": [
        "# media aritmetica de cada columna"
      ],
      "execution_count": null,
      "outputs": [
        {
          "output_type": "execute_result",
          "data": {
            "text/plain": [
              "array([-0.1074033 , -0.88138082, -0.34466623, -0.18148302])"
            ]
          },
          "metadata": {
            "tags": []
          },
          "execution_count": 8
        }
      ]
    },
    {
      "cell_type": "code",
      "metadata": {
        "trusted": false,
        "id": "rQRDVvXIcrkm",
        "outputId": "9065fe60-c2ae-4c72-e749-7a4e46329aab"
      },
      "source": [
        " # Desviación típica\n"
      ],
      "execution_count": null,
      "outputs": [
        {
          "output_type": "execute_result",
          "data": {
            "text/plain": [
              "0.73755354584071608"
            ]
          },
          "metadata": {
            "tags": []
          },
          "execution_count": 9
        }
      ]
    },
    {
      "cell_type": "code",
      "metadata": {
        "trusted": false,
        "id": "iqRhOEoAcrkn",
        "outputId": "3b100481-a315-497f-e4d8-3baad825771b"
      },
      "source": [
        " # Desviación típica de cada columna"
      ],
      "execution_count": null,
      "outputs": [
        {
          "output_type": "execute_result",
          "data": {
            "text/plain": [
              "array([ 0.58057213,  0.78352862,  0.87384108,  0.17682485])"
            ]
          },
          "metadata": {
            "tags": []
          },
          "execution_count": 10
        }
      ]
    },
    {
      "cell_type": "code",
      "metadata": {
        "trusted": false,
        "id": "DRyHn9JHcrko",
        "outputId": "2eecfefd-a3f6-40e5-ace7-8d993ac8283b"
      },
      "source": [
        "# varianza\n"
      ],
      "execution_count": null,
      "outputs": [
        {
          "output_type": "execute_result",
          "data": {
            "text/plain": [
              "0.54398523298221324"
            ]
          },
          "metadata": {
            "tags": []
          },
          "execution_count": 11
        }
      ]
    },
    {
      "cell_type": "code",
      "metadata": {
        "trusted": false,
        "id": "78opk4D7crkp",
        "outputId": "30af5c99-c652-42ef-ac0e-6bd75cbdba16"
      },
      "source": [
        "# varianza de cada columna"
      ],
      "execution_count": null,
      "outputs": [
        {
          "output_type": "execute_result",
          "data": {
            "text/plain": [
              "array([ 0.337064  ,  0.6139171 ,  0.76359823,  0.03126703])"
            ]
          },
          "metadata": {
            "tags": []
          },
          "execution_count": 12
        }
      ]
    },
    {
      "cell_type": "code",
      "metadata": {
        "trusted": false,
        "id": "9hLUD3sccrkp",
        "outputId": "0e08d959-cacc-43b5-c34a-1fc755f502f9"
      },
      "source": [
        "# moda\n",
        "# Calcula la moda de cada columna\n",
        "# el 2do array devuelve la frecuencia."
      ],
      "execution_count": null,
      "outputs": [
        {
          "output_type": "execute_result",
          "data": {
            "text/plain": [
              "(array([[-0.76959435, -1.37414587, -0.62681496, -0.63329028]]),\n",
              " array([[ 1.,  1.,  1.,  1.]]))"
            ]
          },
          "metadata": {
            "tags": []
          },
          "execution_count": 13
        }
      ]
    },
    {
      "cell_type": "code",
      "metadata": {
        "trusted": false,
        "id": "c12-lXlbcrkq",
        "outputId": "695cff00-2655-43e5-c243-29c953216c55"
      },
      "source": [
        "\n",
        "# aqui la moda es el 6 porque aparece 5 veces en el vector."
      ],
      "execution_count": null,
      "outputs": [
        {
          "output_type": "execute_result",
          "data": {
            "text/plain": [
              "(array([6]), array([ 5.]))"
            ]
          },
          "metadata": {
            "tags": []
          },
          "execution_count": 14
        }
      ]
    },
    {
      "cell_type": "code",
      "metadata": {
        "trusted": false,
        "id": "2hkvWzHRcrkr",
        "outputId": "8bc510e7-33b6-41ec-babf-a6b18a3b3dd0"
      },
      "source": [
        "# correlacion\n",
        " # Crea matriz de correlación."
      ],
      "execution_count": null,
      "outputs": [
        {
          "output_type": "execute_result",
          "data": {
            "text/plain": [
              "array([[ 1.        ,  0.82333743,  0.15257202,  0.78798675, -0.02292073],\n",
              "       [ 0.82333743,  1.        , -0.13709662,  0.86873632,  0.41234875],\n",
              "       [ 0.15257202, -0.13709662,  1.        , -0.47691376,  0.21216856],\n",
              "       [ 0.78798675,  0.86873632, -0.47691376,  1.        , -0.03445705],\n",
              "       [-0.02292073,  0.41234875,  0.21216856, -0.03445705,  1.        ]])"
            ]
          },
          "metadata": {
            "tags": []
          },
          "execution_count": 15
        }
      ]
    },
    {
      "cell_type": "code",
      "metadata": {
        "trusted": false,
        "id": "0YU2jxnGcrkr",
        "outputId": "4b69d499-7638-41d9-9f5b-6f28f7385f44"
      },
      "source": [
        "# calculando la correlación entre dos vectores.\n"
      ],
      "execution_count": null,
      "outputs": [
        {
          "output_type": "execute_result",
          "data": {
            "text/plain": [
              "array([[ 1.        ,  0.82333743],\n",
              "       [ 0.82333743,  1.        ]])"
            ]
          },
          "metadata": {
            "tags": []
          },
          "execution_count": 16
        }
      ]
    },
    {
      "cell_type": "code",
      "metadata": {
        "trusted": false,
        "id": "7CYzYosEcrks",
        "outputId": "91f30eb9-0f87-48de-906a-ee0b3e827e2d"
      },
      "source": [
        "# covarianza\n",
        " # calcula matriz de covarianza"
      ],
      "execution_count": null,
      "outputs": [
        {
          "output_type": "execute_result",
          "data": {
            "text/plain": [
              "array([[ 0.43350958,  0.18087281,  0.06082243,  0.11328658, -0.01782409],\n",
              "       [ 0.18087281,  0.11132485, -0.0276957 ,  0.06329134,  0.16249513],\n",
              "       [ 0.06082243, -0.0276957 ,  0.36658864, -0.06305065,  0.15172255],\n",
              "       [ 0.11328658,  0.06329134, -0.06305065,  0.04767826, -0.00888624],\n",
              "       [-0.01782409,  0.16249513,  0.15172255, -0.00888624,  1.39495179]])"
            ]
          },
          "metadata": {
            "tags": []
          },
          "execution_count": 17
        }
      ]
    },
    {
      "cell_type": "code",
      "metadata": {
        "trusted": false,
        "id": "Aix2PzKjcrkt",
        "outputId": "9bdb867f-7030-43f9-a31c-a0c1f8a74b6f"
      },
      "source": [
        "# covarianza de dos vectores\n"
      ],
      "execution_count": null,
      "outputs": [
        {
          "output_type": "execute_result",
          "data": {
            "text/plain": [
              "array([[ 0.43350958,  0.18087281],\n",
              "       [ 0.18087281,  0.11132485]])"
            ]
          },
          "metadata": {
            "tags": []
          },
          "execution_count": 18
        }
      ]
    },
    {
      "cell_type": "code",
      "metadata": {
        "trusted": false,
        "id": "qi5L_pTqcrkt",
        "outputId": "5218089e-b85f-4c4d-c499-852467430189"
      },
      "source": [
        "# usando pandas\n"
      ],
      "execution_count": null,
      "outputs": [
        {
          "output_type": "execute_result",
          "data": {
            "text/html": [
              "<div style=\"max-height:1000px;max-width:1500px;overflow:auto;\">\n",
              "<table border=\"1\" class=\"dataframe\">\n",
              "  <thead>\n",
              "    <tr style=\"text-align: right;\">\n",
              "      <th></th>\n",
              "      <th>col1</th>\n",
              "      <th>col2</th>\n",
              "      <th>col3</th>\n",
              "      <th>col4</th>\n",
              "    </tr>\n",
              "  </thead>\n",
              "  <tbody>\n",
              "    <tr>\n",
              "      <th>a</th>\n",
              "      <td>0.460380</td>\n",
              "      <td>-1.089425</td>\n",
              "      <td>-0.626815</td>\n",
              "      <td>-0.633290</td>\n",
              "    </tr>\n",
              "    <tr>\n",
              "      <th>b</th>\n",
              "      <td>-0.107403</td>\n",
              "      <td>-0.881381</td>\n",
              "      <td>-0.344666</td>\n",
              "      <td>-0.283202</td>\n",
              "    </tr>\n",
              "    <tr>\n",
              "      <th>c</th>\n",
              "      <td>0.940512</td>\n",
              "      <td>0.866938</td>\n",
              "      <td>1.209479</td>\n",
              "      <td>-0.168941</td>\n",
              "    </tr>\n",
              "    <tr>\n",
              "      <th>d</th>\n",
              "      <td>-0.127902</td>\n",
              "      <td>-0.580999</td>\n",
              "      <td>-0.461884</td>\n",
              "      <td>-0.181483</td>\n",
              "    </tr>\n",
              "    <tr>\n",
              "      <th>e</th>\n",
              "      <td>-0.769594</td>\n",
              "      <td>-1.374146</td>\n",
              "      <td>1.376969</td>\n",
              "      <td>-0.180405</td>\n",
              "    </tr>\n",
              "  </tbody>\n",
              "</table>\n",
              "</div>"
            ],
            "text/plain": [
              "       col1      col2      col3      col4\n",
              "a  0.460380 -1.089425 -0.626815 -0.633290\n",
              "b -0.107403 -0.881381 -0.344666 -0.283202\n",
              "c  0.940512  0.866938  1.209479 -0.168941\n",
              "d -0.127902 -0.580999 -0.461884 -0.181483\n",
              "e -0.769594 -1.374146  1.376969 -0.180405"
            ]
          },
          "metadata": {
            "tags": []
          },
          "execution_count": 19
        }
      ]
    },
    {
      "cell_type": "code",
      "metadata": {
        "trusted": false,
        "id": "jz-GRl9acrku",
        "outputId": "739ea847-86de-4eb4-9db9-89eab11b91b3"
      },
      "source": [
        "# resumen estadistadistico con pandas\n"
      ],
      "execution_count": null,
      "outputs": [
        {
          "output_type": "execute_result",
          "data": {
            "text/html": [
              "<div style=\"max-height:1000px;max-width:1500px;overflow:auto;\">\n",
              "<table border=\"1\" class=\"dataframe\">\n",
              "  <thead>\n",
              "    <tr style=\"text-align: right;\">\n",
              "      <th></th>\n",
              "      <th>col1</th>\n",
              "      <th>col2</th>\n",
              "      <th>col3</th>\n",
              "      <th>col4</th>\n",
              "    </tr>\n",
              "  </thead>\n",
              "  <tbody>\n",
              "    <tr>\n",
              "      <th>count</th>\n",
              "      <td>5.000000</td>\n",
              "      <td>5.000000</td>\n",
              "      <td>5.000000</td>\n",
              "      <td>5.000000</td>\n",
              "    </tr>\n",
              "    <tr>\n",
              "      <th>mean</th>\n",
              "      <td>0.079199</td>\n",
              "      <td>-0.611803</td>\n",
              "      <td>0.230616</td>\n",
              "      <td>-0.289464</td>\n",
              "    </tr>\n",
              "    <tr>\n",
              "      <th>std</th>\n",
              "      <td>0.649099</td>\n",
              "      <td>0.876012</td>\n",
              "      <td>0.976984</td>\n",
              "      <td>0.197696</td>\n",
              "    </tr>\n",
              "    <tr>\n",
              "      <th>min</th>\n",
              "      <td>-0.769594</td>\n",
              "      <td>-1.374146</td>\n",
              "      <td>-0.626815</td>\n",
              "      <td>-0.633290</td>\n",
              "    </tr>\n",
              "    <tr>\n",
              "      <th>25%</th>\n",
              "      <td>-0.127902</td>\n",
              "      <td>-1.089425</td>\n",
              "      <td>-0.461884</td>\n",
              "      <td>-0.283202</td>\n",
              "    </tr>\n",
              "    <tr>\n",
              "      <th>50%</th>\n",
              "      <td>-0.107403</td>\n",
              "      <td>-0.881381</td>\n",
              "      <td>-0.344666</td>\n",
              "      <td>-0.181483</td>\n",
              "    </tr>\n",
              "    <tr>\n",
              "      <th>75%</th>\n",
              "      <td>0.460380</td>\n",
              "      <td>-0.580999</td>\n",
              "      <td>1.209479</td>\n",
              "      <td>-0.180405</td>\n",
              "    </tr>\n",
              "    <tr>\n",
              "      <th>max</th>\n",
              "      <td>0.940512</td>\n",
              "      <td>0.866938</td>\n",
              "      <td>1.376969</td>\n",
              "      <td>-0.168941</td>\n",
              "    </tr>\n",
              "  </tbody>\n",
              "</table>\n",
              "</div>"
            ],
            "text/plain": [
              "           col1      col2      col3      col4\n",
              "count  5.000000  5.000000  5.000000  5.000000\n",
              "mean   0.079199 -0.611803  0.230616 -0.289464\n",
              "std    0.649099  0.876012  0.976984  0.197696\n",
              "min   -0.769594 -1.374146 -0.626815 -0.633290\n",
              "25%   -0.127902 -1.089425 -0.461884 -0.283202\n",
              "50%   -0.107403 -0.881381 -0.344666 -0.181483\n",
              "75%    0.460380 -0.580999  1.209479 -0.180405\n",
              "max    0.940512  0.866938  1.376969 -0.168941"
            ]
          },
          "metadata": {
            "tags": []
          },
          "execution_count": 20
        }
      ]
    },
    {
      "cell_type": "code",
      "metadata": {
        "trusted": false,
        "id": "oEheci_Wcrkv",
        "outputId": "e15f569e-f515-44f0-d086-d129d5b67699"
      },
      "source": [
        "# sumando las columnas\n"
      ],
      "execution_count": null,
      "outputs": [
        {
          "output_type": "execute_result",
          "data": {
            "text/plain": [
              "col1    0.395993\n",
              "col2   -3.059013\n",
              "col3    1.153082\n",
              "col4   -1.447322\n",
              "dtype: float64"
            ]
          },
          "metadata": {
            "tags": []
          },
          "execution_count": 21
        }
      ]
    },
    {
      "cell_type": "code",
      "metadata": {
        "trusted": false,
        "id": "JIcLoSvScrkv",
        "outputId": "8d913f21-a06b-41d5-d3b6-b0ff5261e6ca"
      },
      "source": [
        "# sumando filas\n"
      ],
      "execution_count": null,
      "outputs": [
        {
          "output_type": "execute_result",
          "data": {
            "text/plain": [
              "a   -1.889150\n",
              "b   -1.616652\n",
              "c    2.847987\n",
              "d   -1.352268\n",
              "e   -0.947177\n",
              "dtype: float64"
            ]
          },
          "metadata": {
            "tags": []
          },
          "execution_count": 22
        }
      ]
    },
    {
      "cell_type": "code",
      "metadata": {
        "trusted": false,
        "id": "ffHwt5Fgcrkx",
        "outputId": "364731d3-378d-41a3-9432-32bc72c67351"
      },
      "source": [
        "# acumulados"
      ],
      "execution_count": null,
      "outputs": [
        {
          "output_type": "execute_result",
          "data": {
            "text/html": [
              "<div style=\"max-height:1000px;max-width:1500px;overflow:auto;\">\n",
              "<table border=\"1\" class=\"dataframe\">\n",
              "  <thead>\n",
              "    <tr style=\"text-align: right;\">\n",
              "      <th></th>\n",
              "      <th>col1</th>\n",
              "      <th>col2</th>\n",
              "      <th>col3</th>\n",
              "      <th>col4</th>\n",
              "    </tr>\n",
              "  </thead>\n",
              "  <tbody>\n",
              "    <tr>\n",
              "      <th>a</th>\n",
              "      <td>0.460380</td>\n",
              "      <td>-1.089425</td>\n",
              "      <td>-0.626815</td>\n",
              "      <td>-0.633290</td>\n",
              "    </tr>\n",
              "    <tr>\n",
              "      <th>b</th>\n",
              "      <td>0.352977</td>\n",
              "      <td>-1.970806</td>\n",
              "      <td>-0.971481</td>\n",
              "      <td>-0.916492</td>\n",
              "    </tr>\n",
              "    <tr>\n",
              "      <th>c</th>\n",
              "      <td>1.293489</td>\n",
              "      <td>-1.103868</td>\n",
              "      <td>0.237998</td>\n",
              "      <td>-1.085434</td>\n",
              "    </tr>\n",
              "    <tr>\n",
              "      <th>d</th>\n",
              "      <td>1.165587</td>\n",
              "      <td>-1.684867</td>\n",
              "      <td>-0.223887</td>\n",
              "      <td>-1.266917</td>\n",
              "    </tr>\n",
              "    <tr>\n",
              "      <th>e</th>\n",
              "      <td>0.395993</td>\n",
              "      <td>-3.059013</td>\n",
              "      <td>1.153082</td>\n",
              "      <td>-1.447322</td>\n",
              "    </tr>\n",
              "  </tbody>\n",
              "</table>\n",
              "</div>"
            ],
            "text/plain": [
              "       col1      col2      col3      col4\n",
              "a  0.460380 -1.089425 -0.626815 -0.633290\n",
              "b  0.352977 -1.970806 -0.971481 -0.916492\n",
              "c  1.293489 -1.103868  0.237998 -1.085434\n",
              "d  1.165587 -1.684867 -0.223887 -1.266917\n",
              "e  0.395993 -3.059013  1.153082 -1.447322"
            ]
          },
          "metadata": {
            "tags": []
          },
          "execution_count": 23
        }
      ]
    },
    {
      "cell_type": "code",
      "metadata": {
        "trusted": false,
        "id": "o8LlGvgTcrkx",
        "outputId": "51973126-a134-40de-8eaa-492c8e3bf29a"
      },
      "source": [
        "# media aritmetica de cada columna con pandas\n"
      ],
      "execution_count": null,
      "outputs": [
        {
          "output_type": "execute_result",
          "data": {
            "text/plain": [
              "col1    0.079199\n",
              "col2   -0.611803\n",
              "col3    0.230616\n",
              "col4   -0.289464\n",
              "dtype: float64"
            ]
          },
          "metadata": {
            "tags": []
          },
          "execution_count": 24
        }
      ]
    },
    {
      "cell_type": "code",
      "metadata": {
        "trusted": false,
        "id": "tMvbGEhRcrk2",
        "outputId": "01a3a996-8b41-49c1-91bb-fbde4fd92177"
      },
      "source": [
        "# media aritmetica de cada fila con pandas\n"
      ],
      "execution_count": null,
      "outputs": [
        {
          "output_type": "execute_result",
          "data": {
            "text/plain": [
              "a   -0.472288\n",
              "b   -0.404163\n",
              "c    0.711997\n",
              "d   -0.338067\n",
              "e   -0.236794\n",
              "dtype: float64"
            ]
          },
          "metadata": {
            "tags": []
          },
          "execution_count": 25
        }
      ]
    },
    {
      "cell_type": "markdown",
      "metadata": {
        "id": "N73ynAuhcrk3"
      },
      "source": [
        "## Histogramas y Distribuciones\n",
        "\n",
        "Muchas veces los indicadores de la *[estadística descriptiva](https://es.wikipedia.org/wiki/Estad%C3%ADstica_descriptiva)* no nos proporcionan una imagen clara de nuestros *[datos](https://es.wikipedia.org/wiki/Dato)*.  Por esta razón, siempre es útil complementarlos con gráficos de las distribuciones de los *[datos](https://es.wikipedia.org/wiki/Dato)*, que describan con qué frecuencia aparece cada valor. La representación más común de una distribución es un [histograma](https://es.wikipedia.org/wiki/Histograma), que es un gráfico que muestra la frecuencia o probabilidad de cada valor. El [histograma](https://es.wikipedia.org/wiki/Histograma) muestra las frecuencias como un gráfico de barras que indica cuan frecuente un determinado valor ocurre en el [conjunto de datos](https://es.wikipedia.org/wiki/Conjunto_de_datos). El eje horizontal representa los valores del [conjunto de datos](https://es.wikipedia.org/wiki/Conjunto_de_datos) y el eje vertical representa la frecuencia con que esos valores ocurren.\n",
        "\n",
        "Las distribuciones se pueden clasificar en dos grandes grupos:\n",
        "\n",
        "1. Las **[distribuciones continuas](https://es.wikipedia.org/wiki/Distribuci%C3%B3n_de_probabilidad_continua)**, que son aquellas que presentan un número infinito de posibles soluciones. Dentro de este grupo vamos a encontrar a las distribuciones: \n",
        "    * [normal](https://es.wikipedia.org/wiki/Distribuci%C3%B3n_normal),\n",
        "    * [gamma](https://es.wikipedia.org/wiki/Distribuci%C3%B3n_gamma),\n",
        "    * [chi cuadrado](https://es.wikipedia.org/wiki/Distribuci%C3%B3n_%CF%87%C2%B2), \n",
        "    * [t de Student](https://es.wikipedia.org/wiki/Distribuci%C3%B3n_t_de_Student), \n",
        "    * [pareto](https://es.wikipedia.org/wiki/Distribuci%C3%B3n_de_Pareto),\n",
        "    * entre otras\n",
        "\n",
        "2. Las **distribuciones discretas**, que son aquellas en las que la variable puede tomar un número determinado de valores. Los principales exponentes de este grupo son las distribuciones: \n",
        "    * [poisson](https://es.wikipedia.org/wiki/Distribuci%C3%B3n_de_Poisson),\n",
        "    * [binomial](https://es.wikipedia.org/wiki/Distribuci%C3%B3n_binomial),\n",
        "    * [hipergeométrica](https://es.wikipedia.org/wiki/Distribuci%C3%B3n_hipergeom%C3%A9trica),\n",
        "    * [bernoulli](https://es.wikipedia.org/wiki/Distribuci%C3%B3n_de_Bernoulli)\n",
        "    * entre otras\n",
        "\n",
        "Veamos algunos ejemplos graficados con la ayuda de [Python](https://python.org/)."
      ]
    },
    {
      "cell_type": "markdown",
      "metadata": {
        "id": "kncRBH0Icrk5"
      },
      "source": [
        "### Distribución normal\n",
        "\n",
        "La [distribución normal](https://es.wikipedia.org/wiki/Distribuci%C3%B3n_normal) es una de las principales distribuciones, ya que es la que con más frecuencia aparece aproximada en los fenómenos reales. Tiene una forma acampanada y es simétrica respecto de un determinado parámetro estadístico. Con la ayuda de [Python](https://python.org/) la podemos graficar de la siguiente manera:"
      ]
    },
    {
      "cell_type": "code",
      "metadata": {
        "trusted": false,
        "id": "-RoaKHurcrk6"
      },
      "source": [
        "# Graficos embebidos.\n"
      ],
      "execution_count": null,
      "outputs": []
    },
    {
      "cell_type": "code",
      "metadata": {
        "trusted": false,
        "id": "7P-YAVazcrk7"
      },
      "source": [
        "# importando matplotlib\n",
        "# importando seaborn\n",
        "\n",
        "# parametros esteticos de seaborn\n"
      ],
      "execution_count": null,
      "outputs": []
    },
    {
      "cell_type": "code",
      "metadata": {
        "trusted": false,
        "id": "B3pFt_DDcrk7"
      },
      "source": [
        "# media y desvio estandar\n",
        "#creando muestra de datos"
      ],
      "execution_count": null,
      "outputs": []
    },
    {
      "cell_type": "code",
      "metadata": {
        "trusted": false,
        "id": "mx725bWucrk8"
      },
      "source": [
        "# histograma de distribución normal.\n"
      ],
      "execution_count": null,
      "outputs": []
    },
    {
      "cell_type": "markdown",
      "metadata": {
        "collapsed": true,
        "id": "74N_WRWmcrk8"
      },
      "source": [
        "### Distribuciones simetricas y asimetricas\n",
        "\n",
        "Una distribución es simétrica cuando moda, mediana y media coinciden aproximadamente en sus valores. Si una distribución es simétrica, existe el mismo número de valores a la derecha que a la izquierda de la media, por tanto, el mismo número de desviaciones con signo positivo que con signo negativo.\n",
        "\n",
        "Una distribución tiene [asimetria](https://es.wikipedia.org/wiki/Asimetr%C3%ADa_estad%C3%ADstica) positiva (o a la derecha) si la \"cola\" a la derecha de la media es más larga que la de la izquierda, es decir, si hay valores más separados de la media a la derecha. De la misma forma una distribución tiene [asimetria](https://es.wikipedia.org/wiki/Asimetr%C3%ADa_estad%C3%ADstica) negativa (o a la izquierda) si la \"cola\" a la izquierda de la media es más larga que la de la derecha, es decir, si hay valores más separados de la media a la izquierda.\n",
        "\n",
        "Las distribuciones asimétricas suelen ser problemáticas, ya que la mayoría de los métodos estadísticos suelen estar desarrollados para distribuciones del tipo [normal](https://es.wikipedia.org/wiki/Distribuci%C3%B3n_normal). Para salvar estos problemas se suelen realizar transformaciones a los datos para hacer a estas distribuciones más simétricas y acercarse a la [distribución normal](https://es.wikipedia.org/wiki/Distribuci%C3%B3n_normal).  "
      ]
    },
    {
      "cell_type": "code",
      "metadata": {
        "trusted": false,
        "id": "EX5ZD2qacrk9",
        "outputId": "8cf9e5e2-c3c7-4e0a-d36c-06a348d9377f"
      },
      "source": [
        "# Dibujando la distribucion Gamma\n"
      ],
      "execution_count": null,
      "outputs": [
        {
          "output_type": "display_data",
          "data": {
            "image/png": "[encoded data removed]",
            "text/plain": [
              "<matplotlib.figure.Figure at 0x7fe5ffeee0f0>"
            ]
          },
          "metadata": {
            "tags": []
          }
        }
      ]
    },
    {
      "cell_type": "markdown",
      "metadata": {
        "id": "9csUk0s2crk-"
      },
      "source": [
        "En este ejemplo podemos ver que la [distribución gamma](https://es.wikipedia.org/wiki/Distribuci%C3%B3n_gamma) que dibujamos tiene una [asimetria](https://es.wikipedia.org/wiki/Asimetr%C3%ADa_estad%C3%ADstica) positiva. "
      ]
    },
    {
      "cell_type": "code",
      "metadata": {
        "trusted": false,
        "id": "j-OZy6yXcrk_",
        "outputId": "5bff913c-8308-47fe-eafe-e57878771b54"
      },
      "source": [
        "# Calculando la simetria con scipy\n"
      ],
      "execution_count": null,
      "outputs": [
        {
          "output_type": "execute_result",
          "data": {
            "text/plain": [
              "1.1437199125547868"
            ]
          },
          "metadata": {
            "tags": []
          },
          "execution_count": 31
        }
      ]
    },
    {
      "cell_type": "markdown",
      "metadata": {
        "id": "iONuUP20crlA"
      },
      "source": [
        "## Cuartiles y diagramas de cajas\n",
        "\n",
        "Los **[cuartiles](https://es.wikipedia.org/wiki/Cuartil)** son los tres valores de la variable estadística que dividen a un [conjunto de datos](https://es.wikipedia.org/wiki/Conjunto_de_datos) ordenados en cuatro partes iguales. Q1, Q2 y Q3 determinan los valores correspondientes al 25%, al 50% y al 75% de los datos. Q2 coincide con la <a href=\"https://es.wikipedia.org/wiki/Mediana_(estad%C3%ADstica)\">mediana</a>.\n",
        "\n",
        "Los [diagramas de cajas](https://es.wikipedia.org/wiki/Diagrama_de_caja) son una presentación visual que describe varias características importantes al mismo tiempo, tales como la dispersión y simetría. Para su realización se representan los tres cuartiles y los valores mínimo y máximo de los datos, sobre un rectángulo, alineado horizontal o verticalmente. Estos gráficos nos proporcionan abundante información y son sumamente útiles para encontrar [valores atípicos](https://es.wikipedia.org/wiki/Valor_at%C3%ADpico) y comparar dos [conjunto de datos](https://es.wikipedia.org/wiki/Conjunto_de_datos). \n",
        "\n",
        "\n",
        "<img alt=\"diagrama de cajas\" title=\"Diagrama de cajas\" src=\"https://relopezbriega.github.io/images/diagCajas.png\" width=\"600\">"
      ]
    },
    {
      "cell_type": "code",
      "metadata": {
        "trusted": false,
        "id": "7-TKMUy0crlA",
        "outputId": "180e5f26-c702-44f9-9f8d-4492b9e56de0"
      },
      "source": [
        "# Ejemplo de grafico de cajas en python\n",
        "\n",
        "datos_1 = np.random.normal(100, 10, 200)\n",
        "datos_2 = np.random.normal(80, 30, 200)\n",
        "datos_3 = np.random.normal(90, 20, 200)\n",
        "datos_4 = np.random.normal(70, 25, 200)\n",
        "\n",
        "datos_graf = [datos_1, datos_2, datos_3, datos_4]\n",
        "\n",
        "# Creando el objeto figura\n",
        "\n",
        "\n",
        "# Creando el subgrafico\n",
        "\n",
        "\n",
        "# creando el grafico de cajas\n",
        "\n",
        "\n",
        "# visualizar mas facile los atípicos\n",
        "\n",
        "# los puntos aislados son valores atípicos"
      ],
      "execution_count": null,
      "outputs": [
        {
          "output_type": "display_data",
          "data": {
            "image/png": "[encoded data removed]",
            "text/plain": [
              "<matplotlib.figure.Figure at 0x7fe5f2a12b00>"
            ]
          },
          "metadata": {
            "tags": []
          }
        }
      ]
    },
    {
      "cell_type": "code",
      "metadata": {
        "trusted": false,
        "id": "O1JJARbbcrlB",
        "outputId": "715dcab8-2420-472d-f7d5-bdd092cc33ee"
      },
      "source": [
        "# usando seaborn\n"
      ],
      "execution_count": null,
      "outputs": [
        {
          "output_type": "display_data",
          "data": {
            "image/png": "[encoded data removed]",
            "text/plain": [
              "<matplotlib.figure.Figure at 0x7fe5f29f23c8>"
            ]
          },
          "metadata": {
            "tags": []
          }
        }
      ]
    },
    {
      "cell_type": "markdown",
      "metadata": {
        "id": "01_6EYLGcrka"
      },
      "source": [
        "## ¿Qué es la Probabilidad?\n",
        "\n",
        "La *[probabilidad](https://es.wikipedia.org/wiki/Probabilidad)* mide la mayor o menor posibilidad de que se dé un determinado resultado (suceso o evento) cuando se realiza un experimento aleatorio.\n",
        "Para calcular la probabilidad de un evento se toma en cuenta todos los casos posibles de ocurrencia del mismo; es decir, de cuántas formas puede ocurrir determinada situación.Los casos favorables de ocurrencia de un evento serán los que cumplan con la condición que estamos buscando. La *[probabilidad](https://es.wikipedia.org/wiki/Probabilidad)* toma valores entre 0 y 1 (o expresados en tanto por ciento, entre 0% y 100%).\n",
        "\n",
        "La *[probabilidad](https://es.wikipedia.org/wiki/Probabilidad)* es a la vez el inverso y complemento para la *[estadística](https://es.wikipedia.org/wiki/Estad%C3%ADstica)*. Dónde la *[estadística](https://es.wikipedia.org/wiki/Estad%C3%ADstica)* nos ayuda a ir desde los *[datos](https://es.wikipedia.org/wiki/Dato)* observados hasta hacer generalizaciones sobre como funcionan las cosas; la *[probabilidad](https://es.wikipedia.org/wiki/Probabilidad)* funciona en la dirección inversa: si asumimos que sabemos como las cosas funcionan, entonces podemos averiguar la clase de *[datos](https://es.wikipedia.org/wiki/Dato)* que vamos a ver y cuan probable es que los veamos.\n",
        "\n",
        "La *[probabilidad](https://es.wikipedia.org/wiki/Probabilidad)* también funciona como complemento de la *[estadística](https://es.wikipedia.org/wiki/Estad%C3%ADstica)* cuando nos proporciona una sólida base para la *[estadistica inferencial](https://es.wikipedia.org/wiki/Estad%C3%ADstica_inferencial)*. Cuando hay incertidumbre, no sabemos que puede pasar y hay alguna posibilidad de errores, utilizando *[probabilidades](https://es.wikipedia.org/wiki/Probabilidad)* podemos aprender formas de controlar la tasa de errores para reducirlos."
      ]
    },
    {
      "cell_type": "markdown",
      "metadata": {
        "id": "EakUZYpRFVxv"
      },
      "source": [
        "## Fuentes de Incertidumbre\n",
        "\n",
        "La mayoría de aplicaciones relacionadas con la ciencia de la computación son `deterministas` (el resultado es el mismo en cada ejecución de un programa). Sin embargo, en el campo de la IA y el `Machine Learning` en particular nos enfrentamos a `incertidumbre` y `estocasticidad` de manera contínua (el resultado de un programa es diferente cada vez que lo ejecutamos). Las principales fuentes de esta incertidumbre son:\n",
        "\n",
        "- Estocasticidad inherente al sistema modelado debido, por ejemplo, a dinámicas aleatorias (imagina que queremos entrenar una IA para ganar a un juego de cartas, en cada partida las cartas están barajadas de manera aleatoria).\n",
        "- Observabilidad parcial, incluso en sistemas totalmente determinísticos no tener acceso a toda la información es una fuente importante de incertidumbre.\n",
        "- Modelado incompleto debido al descarte de parte de la información observada.\n",
        "\n",
        "Pese a que tenemos estas fuentes de incertidumbre, en muchos casos es mejor desde un punto de vista práctico utilizar reglas sencillas con incertidumbre que funcionen en la mayoría de ocasiones que reglas ciertas pero complicadas de desarrollar. Incluso si existe una regla verdadera y determinista, el coste que conlleva su desarrollo y su propensión a tener errores no compensa."
      ]
    },
    {
      "cell_type": "markdown",
      "metadata": {
        "id": "ahUNIdvUF5M7"
      },
      "source": [
        "## Variables aleatorias\n",
        "\n",
        "Una variable aleatoria es una variable que puede tener diferentes valores de manera aleatoria.\n"
      ]
    },
    {
      "cell_type": "code",
      "metadata": {
        "id": "TcsUF_h9F4z4"
      },
      "source": [
        ""
      ],
      "execution_count": null,
      "outputs": []
    },
    {
      "cell_type": "markdown",
      "metadata": {
        "id": "Auk8Ca7UGCgH"
      },
      "source": [
        "> ⚠️ Cada vez que ejecutes la casilla anterior obtendrás un vector con valores distintos. Puedes usar la función `np.random.seed(SEMILLA)` para fijar una `semilla` de manera que los números aleatorios generados en diferentes ejecuciones serán siempre los mismos."
      ]
    },
    {
      "cell_type": "markdown",
      "metadata": {
        "id": "Zs7G2QNfGHXT"
      },
      "source": [
        "Una variable aleatoria no es más que la descripción de todos los posibles estados, los cuales vienen definidos por una distribución de probabilidad."
      ]
    },
    {
      "cell_type": "markdown",
      "metadata": {
        "id": "hKKEZkeFGRyA"
      },
      "source": [
        "## Variables Discretas\n",
        "\n",
        "Para describir la distribución de probabilidad de una variable discreta utilizamos una función de masa de probabilidad (PMF), normalmente con la notación 𝑃(𝑥). \n",
        "\n",
        "Esta función nos dice cómo de probable es que una variable aleatoria tenga un valor de 𝑥, siendo 𝑃(𝑥)=1 la certeza absoluta de que la variable aleatoria toma el valor 𝑥 y 𝑃(𝑥)=0 la certeza absoluta de que no lo toma. \n",
        "\n",
        "Puede aplicarse a varias variables aleatorias a la vez, por ejemplo 𝑃(𝑥,𝑦) describe la probabilidad de que una variable aleatoria tome el valor 𝑥 y otra el valor 𝑦 de manera simultánea. Esta función debe cumplir unos requisitos, principalmente:\n",
        "\n",
        "    0≤𝑃(𝑥)≤1, la probabilidad de un evento siempre es un número entre 0 (imposible) y 1 (seguro).\n",
        "    ∑𝑥𝑃(𝑥)=1, la suma de las probabilidades de todos los eventos posibles siempre vale 1.\n",
        "\n",
        "Nuestro ejemplo anterior del dado es un caso de función de masa de probabilidad, en este caso uniforme, en la que tenemos 6 estados diferentes y cada posible caso tiene una probabilidad de 1/6, cumpliendo los dos requisitos anteriores.\n"
      ]
    },
    {
      "cell_type": "code",
      "metadata": {
        "id": "qAEQDEXMGW5C"
      },
      "source": [
        "import matplotlib.pyplot as plt\n",
        "\n",
        "#variable discreta\n",
        "\n",
        "\n",
        "#plotea barras\n"
      ],
      "execution_count": null,
      "outputs": []
    },
    {
      "cell_type": "markdown",
      "metadata": {
        "id": "--xiJEf1GbW8"
      },
      "source": [
        "## Variables continuas\n",
        "\n",
        "Describimos la distribución de probabilidad de una variable continua mediante la `función de densidad de probabilidad` (PDF), normalmente con la notación $p(x)$. En este caso no tenemos eventos discretos en los que podemos evaluar nuestra variable, sino que ésta toma un valor en una región infinitesimal dada por la función de probabilidad. También debe cumplir unos requisitos similares a los anteriores:\n",
        "\n",
        "- $0 \\leq p(x) \\leq 1$, la probabilidad de un evento siempre es un número entre 0 (imposible) y 1 (seguro).\n",
        "- $\\int_x p(x) dx = 1$, la suma de las probabilidades de todos los eventos posibles siempre vale 1.\n",
        "\n",
        "La distribución de probabilidad contínua más común es la `distribución Gaussiana`.\n",
        "\n",
        "$$ N(x; \\mu,\\sigma^ 2) = \\sqrt{\\frac{1}{2 \\pi \\sigma^2}}exp \\left( - \\frac{1}{2 \\sigma^2} (x-\\mu)^2 \\right) $$\n",
        "\n",
        "donde $\\mu$ es el `valor medio` de la distribución y $\\sigma^2$ es la `variancia` de la distribución.\n",
        "\n",
        "![](https://upload.wikimedia.org/wikipedia/commons/thumb/7/74/Normal_Distribution_PDF.svg/720px-Normal_Distribution_PDF.svg.png)"
      ]
    },
    {
      "cell_type": "code",
      "metadata": {
        "id": "vfr4UI9MGagl"
      },
      "source": [
        "# distribución gaussiana\n",
        "\n"
      ],
      "execution_count": null,
      "outputs": []
    },
    {
      "cell_type": "markdown",
      "metadata": {
        "id": "T0qZQ7sbGiPd"
      },
      "source": [
        "Otras distribuciones comunes son: `Bernouilli` para variables aleatorias binarias, `Laplace` cuando queremos una distribución con un valor muy grande cerca de $x=0$, `Dirac` cuando queremos concentrar toda la densidad de probabilidad en un solo valor, etc. También es común encontrar `mezclas` de distribuciones en las que el valor de la variables final es la suma ponderada de cada una de las distribuciones, $p(x) = \\sum_i w_i p_i(x)$. El ejemplo más común es la `mezcla de distribuciones Gaussianas` (GMM, *Gaussian mixture models*) ya que permite aproximar cualquier densidad de probabilidad mediante la superposición de distribuciones de tipo Gaussiana.\n",
        "\n",
        "![](https://miro.medium.com/max/1200/1*lTv7e4Cdlp738X_WFZyZHA.png)"
      ]
    },
    {
      "cell_type": "markdown",
      "metadata": {
        "id": "X2EwRtxFGoSo"
      },
      "source": [
        "## Probabilidad Marginal\n",
        "\n",
        "A veces conocemos la distribución de probabilidad sobre un conjunto de variables aleatorias, por ejemplo $P(x,y)$, y queremos conocer la distribución de probabilidad sobre una de ellas, por ejemplo $P(x)$. Esto se conoce como `probabilidad marginal` y se puede calcular utilizando la `regla de la suma`, $P(x) = \\sum_y P(x, y)$."
      ]
    },
    {
      "cell_type": "markdown",
      "metadata": {
        "id": "TLBgpzj_GuHq"
      },
      "source": [
        "## Probabilidad condicional\n",
        "\n",
        "La `probabilidad condicional` nos dice la probabilidad de que un evento ocurra dado que otro evento ya haya ocurrido. Esto se denota como $P(y|x)$, donde $x$ es el evento que ya ha ocurrido e $y$ es el evento del que queremos conocer su probabilidad. Se puede calcular con la siguiente fórmula\n",
        "\n",
        "$$ P(y|x) = \\frac{P(y,x)}{P(x)} $$"
      ]
    },
    {
      "cell_type": "markdown",
      "metadata": {
        "id": "xGyoUGW1Gzmv"
      },
      "source": [
        "Podemos encontrar la probabilidad conjunta sobre un muchas variables aleatorias descomponiéndola en probabilidades condicionales sobre una sola variable\n",
        "\n",
        "$$ P(x_1, x_2, ..., x_n) = P(x_1) \\prod_{i=2}^n P(x_i | x_1, x_2, ..., x_{i-1}) $$\n",
        "\n",
        "Esto se conoce como la `regla de la cadena` de la probabilidad."
      ]
    },
    {
      "cell_type": "markdown",
      "metadata": {
        "id": "8tA_20dHG34l"
      },
      "source": [
        "## Regla de bayes\n",
        "\n",
        "En ocasiones conocemos $P(y|x)$ pero queremos conocer $P(x|y)$. Si conocemos $P(x)$ podemos calcularlo usando la `regla de Bayes`.\n",
        "\n",
        "$$ P(x|y) = \\frac{P(x)P(y|x)}{P(y)} $$\n",
        "\n",
        "Si no conocemos $P(y)$ podemos calcularlo usando la regla de la suma, $P(y) = \\sum_x P(y|x)P(x)$."
      ]
    },
    {
      "cell_type": "markdown",
      "metadata": {
        "id": "lWsJRtpqG9k5"
      },
      "source": [
        "## Funciones comunes\n",
        "\n",
        "Para terminar, vamos a ver algunas funciones comunes que nos encontraremos de manera recurrente y algunas de sus propiedades."
      ]
    },
    {
      "cell_type": "markdown",
      "metadata": {
        "id": "5J_MMEaPHL3Y"
      },
      "source": [
        "## Sigmoid\n",
        "\n",
        "Definimos la función `sigmoid` como \n",
        "\n",
        "$$ \\sigma(z) = \\frac{1}{1 + e^{-z}} $$\n",
        "\n",
        "Esta función opera en el rango $(0, 1)$ por lo que es muy útil para obtener probabilidades."
      ]
    },
    {
      "cell_type": "code",
      "metadata": {
        "id": "TVVOwlQbG9Ip"
      },
      "source": [
        ""
      ],
      "execution_count": null,
      "outputs": []
    },
    {
      "cell_type": "code",
      "metadata": {
        "id": "B7i5obccHQUb"
      },
      "source": [
        ""
      ],
      "execution_count": null,
      "outputs": []
    },
    {
      "cell_type": "markdown",
      "metadata": {
        "id": "T59OwGHIHoAD"
      },
      "source": [
        "## Sorftmax\n",
        "\n",
        "Definimos la función `softmax` como\n",
        "\n",
        "$$ \\sigma(z_i) = \\frac{e^{z_i}}{\\sum_j e^{z_j}} $$\n",
        "\n",
        "Esta función recibe como argumento un vector de valores reales y lo transforma en una distribución de probabilidad."
      ]
    },
    {
      "cell_type": "code",
      "metadata": {
        "id": "345Qto9-HtPJ"
      },
      "source": [
        ""
      ],
      "execution_count": null,
      "outputs": []
    },
    {
      "cell_type": "code",
      "metadata": {
        "id": "OWLB7SvkHuG0"
      },
      "source": [
        ""
      ],
      "execution_count": null,
      "outputs": []
    },
    {
      "cell_type": "code",
      "metadata": {
        "id": "EfIgYAsKHxWn"
      },
      "source": [
        ""
      ],
      "execution_count": null,
      "outputs": []
    },
    {
      "cell_type": "code",
      "metadata": {
        "id": "jxXzm9CMH68a"
      },
      "source": [
        ""
      ],
      "execution_count": null,
      "outputs": []
    },
    {
      "cell_type": "code",
      "metadata": {
        "id": "XzSsvYZbHz6s"
      },
      "source": [
        ""
      ],
      "execution_count": null,
      "outputs": []
    },
    {
      "cell_type": "code",
      "metadata": {
        "id": "v5toDYvbH3Ww"
      },
      "source": [
        ""
      ],
      "execution_count": null,
      "outputs": []
    },
    {
      "cell_type": "markdown",
      "metadata": {
        "id": "ZjzCCGFtH6Oh"
      },
      "source": [
        "Utilizaremos esta función para generar distribuciones de probabilidad. Como puedes ver su efecto es el de hacer los valores grandes todavía más grandes y los pequeños todavía más pequeños (es una versión \"suave\" de la operación $max(z)$)."
      ]
    },
    {
      "cell_type": "markdown",
      "metadata": {
        "id": "_Db6M-YecrlG"
      },
      "source": [
        "## La estadística bayesiana\n",
        "\n",
        "La *[estadística bayesiana](https://es.wikipedia.org/wiki/Estad%C3%ADstica_bayesiana)* es un subconjunto del campo de la *[estadística](https://es.wikipedia.org/wiki/Estad%C3%ADstica)* en la que la evidencia sobre el verdadero estado de las cosas se expresa en términos de grados de creencia. Esta filosofía de tratar a las creencias como probabilidad es algo natural para los seres humanos. Nosotros la utilizamos constantemente a medida que interactuamos con el mundo y sólo vemos verdades parciales; necesitando reunir pruebas para formar nuestras creencias.\n",
        "\n",
        "La diferencia fundamental entre la *[estadística clásica](https://es.wikipedia.org/wiki/Estad%C3%ADstica)* (frecuentista) y la *[bayesiana](https://es.wikipedia.org/wiki/Estad%C3%ADstica_bayesiana)* es el concepto de\n",
        "*[probabilidad](https://es.wikipedia.org/wiki/Probabilidad)*. Para la *[estadística clásica](https://es.wikipedia.org/wiki/Estad%C3%ADstica)* es un concepto objetivo, que se encuentra en la naturaleza,\n",
        "mientras que para la *[estadística bayesiana](https://es.wikipedia.org/wiki/Estad%C3%ADstica_bayesiana)* se encuentra en el observador, siendo así un concepto subjetivo. De este modo, en *[estadística clásica](https://es.wikipedia.org/wiki/Estad%C3%ADstica)* solo se toma como fuente de información las muestras\n",
        "obtenidas. En el caso *[bayesiano](https://es.wikipedia.org/wiki/Estad%C3%ADstica_bayesiana)*, sin embargo, además de la muestra también juega un papel fundamental la información previa o externa que se posee en relación a los fenómenos que se tratan de modelar. \n",
        "\n",
        "La *[estadística bayesiana](https://es.wikipedia.org/wiki/Estad%C3%ADstica_bayesiana)* está demostrando su utilidad en ciertas estimaciones basadas en el conocimiento subjetivo a priori y el hecho de permitir revisar esas estimaciones en función de la evidencia empírica es lo que está abriendo nuevas formas de hacer conocimiento. Una aplicación de esto son los [clasificadores bayesianos](https://es.wikipedia.org/wiki/Clasificador_bayesiano_ingenuo) que son frecuentemente usados en implementaciones de filtros de correo basura, que se adaptan con el uso. La *[estadística bayesiana](https://es.wikipedia.org/wiki/Estad%C3%ADstica_bayesiana)* es un tema muy interesante que merece un artículo en sí mismo.\n",
        "\n",
        "Para entender más fácilmente como funciona la *[estadística bayesiana](https://es.wikipedia.org/wiki/Estad%C3%ADstica_bayesiana)* veamos un simple ejemplo del lanzamiento de una moneda. La idea principal de la inferencia bayesiana es que la noción de *[probabilidad](https://es.wikipedia.org/wiki/Probabilidad)* cambia mientras más *[datos](https://es.wikipedia.org/wiki/Dato)* tengamos."
      ]
    },
    {
      "cell_type": "code",
      "metadata": {
        "trusted": false,
        "id": "TDNHQ8KycrlG",
        "outputId": "dc2d91fb-00e9-4d00-c234-045a3fb18b1a"
      },
      "source": [
        "sns.set_context(rc={\"figure.figsize\": (11, 9)})\n",
        "\n",
        "dist = stats.beta\n",
        "n_trials = [0, 1, 2, 3, 4, 5, 8, 15, 50, 500]\n",
        "data = stats.bernoulli.rvs(0.5, size=n_trials[-1])\n",
        "x = np.linspace(0, 1, 100)\n",
        "\n",
        "for k, N in enumerate(n_trials):\n",
        "    sx = plt.subplot(len(n_trials) / 2, 2, k + 1)\n",
        "    plt.xlabel(\"$p$, probabilidad de cara\") \\\n",
        "        if k in [0, len(n_trials) - 1] else None\n",
        "    plt.setp(sx.get_yticklabels(), visible=False)\n",
        "    heads = data[:N].sum()\n",
        "    y = dist.pdf(x, 1 + heads, 1 + N - heads)\n",
        "    plt.plot(x, y, label=\"lanzamientos observados %d,\\n %d caras\" % (N, heads))\n",
        "    plt.fill_between(x, 0, y, color=\"#348ABD\", alpha=0.4)\n",
        "    plt.vlines(0.5, 0, 4, color=\"k\", linestyles=\"--\", lw=1)\n",
        "\n",
        "    leg = plt.legend()\n",
        "    leg.get_frame().set_alpha(0.4)\n",
        "    plt.autoscale(tight=True)\n",
        "\n",
        "plt.suptitle(\"Actualizacion Bayesiana de probabilidades posterios\",\n",
        "             y=1.02,\n",
        "             fontsize=14)\n",
        "\n",
        "plt.tight_layout()"
      ],
      "execution_count": null,
      "outputs": [
        {
          "output_type": "display_data",
          "data": {
            "image/png": "[encoded data removed]",
            "text/plain": [
              "<matplotlib.figure.Figure at 0x7fe5ed18bcc0>"
            ]
          },
          "metadata": {
            "tags": []
          }
        }
      ]
    },
    {
      "cell_type": "markdown",
      "metadata": {
        "id": "peN4CMOZcrlI"
      },
      "source": [
        "Como el gráfico de arriba muestra, cuando empezamos a observar nuevos *[datos](https://es.wikipedia.org/wiki/Dato)* nuestras probabilidades posteriores comienzan a cambiar y moverse. Eventualmente, a medida que observamos más y más datos (lanzamientos de monedas), nuestras probabilidades se acercan más y más hacia el verdadero valor de p = 0.5 (marcado por una línea discontinua)."
      ]
    },
    {
      "cell_type": "markdown",
      "metadata": {
        "id": "2d0Bdv-4ILHi"
      },
      "source": [
        "## FUENTES:\n",
        "La información fue tomada de un notebook fue creada originalmente como un blog post por [Raúl E. López Briega](https://relopezbriega.com.ar/) y con material deasarrollado por [Juan Sensio](https://youtu.be/6wytho9KUJs)\n",
        "\n",
        "### Bibliografía y Material recomendado:\n",
        "\n",
        "* Probability Theory: The Logic of Science (Jaynes, 2003)\n",
        "\n",
        "* Deep Learning (Goodfellow, Bengio y Courville, 2016)\n",
        "\n",
        "* https://github.com/mml-book/mml-book.github.io \n",
        "\n",
        "* https://d2l.ai/chapter_appendix-mathematics-for-deep-learning/index.html"
      ]
    },
    {
      "cell_type": "markdown",
      "metadata": {
        "id": "Vzs0avBPIzb2"
      },
      "source": [
        "<center>\n",
        " <img src=\"https://raw.githubusercontent.com/basaravia/iot_codes/master/3_Time/img/footer_basaravia.png?token=AJAAVMN5MT5PRRU6ACYEY23AT77NC\"></img>\n",
        "</center>\n",
        "\n",
        "___\n",
        "\n",
        "Dudas o sugerencias, contácteme como Alexander Saravia en\n",
        "\n",
        "<center>\n",
        "\n",
        "[![Open In Colab](https://img.shields.io/badge/LinkedIn-0077B5?style=for-the-badge&logo=linkedin&logoColor=white)](https://www.linkedin.com/in/alexander-saravia) \n",
        "</center>\n",
        "\n",
        "> email: asaravia@sunplenatech.com \n",
        "\n",
        "____\n",
        "\n",
        "<center>\n",
        "<a rel=\"license\" href=\"http://creativecommons.org/licenses/by-nc-sa/4.0/\"><center><img alt=\"Creative Commons License\" style=\"border-width:0\" src=\"https://i.creativecommons.org/l/by-nc-sa/4.0/88x31.png\" /> </center> </a> <br />This work is licensed under a <a rel=\"license\" href=\"http://creativecommons.org/licenses/by-nc-sa/4.0/\">Creative Commons Attribution-NonCommercial-ShareAlike 4.0 International License</a>\n",
        "</center>"
      ]
    }
  ]
}