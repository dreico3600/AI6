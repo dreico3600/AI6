{
  "nbformat": 4,
  "nbformat_minor": 0,
  "metadata": {
    "kernelspec": {
      "display_name": "Python 3",
      "language": "python",
      "name": "python3"
    },
    "language_info": {
      "codemirror_mode": {
        "name": "ipython",
        "version": 3
      },
      "file_extension": ".py",
      "mimetype": "text/x-python",
      "name": "python",
      "nbconvert_exporter": "python",
      "pygments_lexer": "ipython3",
      "version": "3.7.4"
    },
    "colab": {
      "name": "Procesamiento de datos.ipynb",
      "provenance": [],
      "toc_visible": true,
      "include_colab_link": true
    }
  },
  "cells": [
    {
      "cell_type": "markdown",
      "metadata": {
        "id": "view-in-github",
        "colab_type": "text"
      },
      "source": [
        "<a href=\"https://colab.research.google.com/github/dreico3600/AI6/blob/main/Session_01/02.%20Preprocesamiento%20de%20datos/Procesamiento_de_datos.ipynb\" target=\"_parent\"><img src=\"https://colab.research.google.com/assets/colab-badge.svg\" alt=\"Open In Colab\"/></a>"
      ]
    },
    {
      "cell_type": "markdown",
      "metadata": {
        "id": "1lbE5n83nbe9"
      },
      "source": [
        "### **Preprocesamiento de datos**"
      ]
    },
    {
      "cell_type": "markdown",
      "metadata": {
        "id": "HBChBfsanWZW"
      },
      "source": [
        "En esta sección vamos a ver diversas formas para procesar un dataset. Por procesamiento (tambien llamado limpieza) nos referimos a preparar el dataset para la creación de modelos predictivos."
      ]
    },
    {
      "cell_type": "markdown",
      "metadata": {
        "id": "G2KWAk8wnWZX"
      },
      "source": [
        "#### Descripción\n",
        "\n",
        "Vamos a usar el mismo dataset que usamos para el ejemplo de Análisis Exploratorio de Datos.\n",
        "\n",
        "El dataset consiste en información relativa a vehículos vendidos en USA desde 1985. Dicha información incluye detalles técnicos (cilindrada, tipo de transmisión) y detalles medioambientales (consumo de gasolina, emisiones de CO2)\n",
        "\n",
        "El archivo original está en: https://www.fueleconomy.gov/feg/epadata/vehicles.csv.zip\n",
        "El archivo que vamos a usar es una versión modificada (con menos columnas)\n",
        "\n",
        "Descripcion del dataset Original\n",
        "http://www.fueleconomy.gov/feg/ws/index.shtml#ft7\n",
        "\n",
        "En la sección de análisis de datos, detectamos los siguientes errores en el dataset original\n",
        "\n",
        "- Hay 1506 records duplicados\n",
        "- Las variables desplazamiento, cilindros, transmision y traccion tienen valores inexistentes\n",
        "- hay un outlier en las variables `co2` y `consumo`\n",
        "- Hay coches hibridos y coches electricos (hemos removido estos ultimos ya que no contaminan).\n",
        "- Ninguna variable numérica sigue una distribución normal"
      ]
    },
    {
      "cell_type": "code",
      "metadata": {
        "id": "GIzRI-WInWZY"
      },
      "source": [
        "import pandas as pd\n",
        "import matplotlib.pyplot as plt\n",
        "%matplotlib inline\n",
        "plt.rcParams[\"figure.figsize\"] = (12,12)"
      ],
      "execution_count": null,
      "outputs": []
    },
    {
      "cell_type": "code",
      "metadata": {
        "id": "diIKhOamnWZZ",
        "outputId": "ebb5f6b4-0bb7-40f6-c3b9-7ad48799019f"
      },
      "source": [
        "vehiculos = (pd\n",
        "             .read_csv(\"vehiculos_original.csv\")\n",
        "             .rename(columns={\n",
        "                \"cylinders\":\"cilindros\",\n",
        "                \"trany\":\"transmision\",\n",
        "                \"make\":\"fabricante\",\n",
        "                \"model\":\"modelo\",\n",
        "                \"displ\":\"desplazamiento\", #volumen de desplazamiento del motor\n",
        "                \"drive\":\"traccion\",\n",
        "                \"VClass\":\"clase\",\n",
        "                \"fuelType\":\"combustible\",\n",
        "                \"comb08\":\"consumo\", #combined MPG for fuelType1\n",
        "                \"co2TailpipeGpm\":\"co2\", # tailpipe CO2 in grams/mile\n",
        "            })\n",
        "            .query(\"co2>0\")\n",
        ")\n",
        "vehiculos"
      ],
      "execution_count": null,
      "outputs": [
        {
          "output_type": "execute_result",
          "data": {
            "text/html": [
              "<div>\n",
              "<style scoped>\n",
              "    .dataframe tbody tr th:only-of-type {\n",
              "        vertical-align: middle;\n",
              "    }\n",
              "\n",
              "    .dataframe tbody tr th {\n",
              "        vertical-align: top;\n",
              "    }\n",
              "\n",
              "    .dataframe thead th {\n",
              "        text-align: right;\n",
              "    }\n",
              "</style>\n",
              "<table border=\"1\" class=\"dataframe\">\n",
              "  <thead>\n",
              "    <tr style=\"text-align: right;\">\n",
              "      <th></th>\n",
              "      <th>fabricante</th>\n",
              "      <th>modelo</th>\n",
              "      <th>year</th>\n",
              "      <th>desplazamiento</th>\n",
              "      <th>cilindros</th>\n",
              "      <th>transmision</th>\n",
              "      <th>traccion</th>\n",
              "      <th>clase</th>\n",
              "      <th>combustible</th>\n",
              "      <th>consumo</th>\n",
              "      <th>co2</th>\n",
              "    </tr>\n",
              "  </thead>\n",
              "  <tbody>\n",
              "    <tr>\n",
              "      <td>0</td>\n",
              "      <td>AM General</td>\n",
              "      <td>DJ Po Vehicle 2WD</td>\n",
              "      <td>1984</td>\n",
              "      <td>2.5</td>\n",
              "      <td>4.0</td>\n",
              "      <td>Automatic 3-spd</td>\n",
              "      <td>2-Wheel Drive</td>\n",
              "      <td>Special Purpose Vehicle 2WD</td>\n",
              "      <td>Regular</td>\n",
              "      <td>17</td>\n",
              "      <td>522.764706</td>\n",
              "    </tr>\n",
              "    <tr>\n",
              "      <td>1</td>\n",
              "      <td>AM General</td>\n",
              "      <td>DJ Po Vehicle 2WD</td>\n",
              "      <td>1984</td>\n",
              "      <td>2.5</td>\n",
              "      <td>4.0</td>\n",
              "      <td>Automatic 3-spd</td>\n",
              "      <td>2-Wheel Drive</td>\n",
              "      <td>Special Purpose Vehicle 2WD</td>\n",
              "      <td>Regular</td>\n",
              "      <td>17</td>\n",
              "      <td>522.764706</td>\n",
              "    </tr>\n",
              "    <tr>\n",
              "      <td>2</td>\n",
              "      <td>AM General</td>\n",
              "      <td>FJ8c Post Office</td>\n",
              "      <td>1984</td>\n",
              "      <td>4.2</td>\n",
              "      <td>6.0</td>\n",
              "      <td>Automatic 3-spd</td>\n",
              "      <td>2-Wheel Drive</td>\n",
              "      <td>Special Purpose Vehicle 2WD</td>\n",
              "      <td>Regular</td>\n",
              "      <td>13</td>\n",
              "      <td>683.615385</td>\n",
              "    </tr>\n",
              "    <tr>\n",
              "      <td>3</td>\n",
              "      <td>AM General</td>\n",
              "      <td>FJ8c Post Office</td>\n",
              "      <td>1984</td>\n",
              "      <td>4.2</td>\n",
              "      <td>6.0</td>\n",
              "      <td>Automatic 3-spd</td>\n",
              "      <td>2-Wheel Drive</td>\n",
              "      <td>Special Purpose Vehicle 2WD</td>\n",
              "      <td>Regular</td>\n",
              "      <td>13</td>\n",
              "      <td>683.615385</td>\n",
              "    </tr>\n",
              "    <tr>\n",
              "      <td>4</td>\n",
              "      <td>AM General</td>\n",
              "      <td>Post Office DJ5 2WD</td>\n",
              "      <td>1985</td>\n",
              "      <td>2.5</td>\n",
              "      <td>4.0</td>\n",
              "      <td>Automatic 3-spd</td>\n",
              "      <td>Rear-Wheel Drive</td>\n",
              "      <td>Special Purpose Vehicle 2WD</td>\n",
              "      <td>Regular</td>\n",
              "      <td>16</td>\n",
              "      <td>555.437500</td>\n",
              "    </tr>\n",
              "    <tr>\n",
              "      <td>...</td>\n",
              "      <td>...</td>\n",
              "      <td>...</td>\n",
              "      <td>...</td>\n",
              "      <td>...</td>\n",
              "      <td>...</td>\n",
              "      <td>...</td>\n",
              "      <td>...</td>\n",
              "      <td>...</td>\n",
              "      <td>...</td>\n",
              "      <td>...</td>\n",
              "      <td>...</td>\n",
              "    </tr>\n",
              "    <tr>\n",
              "      <td>38421</td>\n",
              "      <td>smart</td>\n",
              "      <td>fortwo coupe</td>\n",
              "      <td>2015</td>\n",
              "      <td>1.0</td>\n",
              "      <td>3.0</td>\n",
              "      <td>Automatic (AM5)</td>\n",
              "      <td>Rear-Wheel Drive</td>\n",
              "      <td>Two Seaters</td>\n",
              "      <td>Premium</td>\n",
              "      <td>36</td>\n",
              "      <td>244.000000</td>\n",
              "    </tr>\n",
              "    <tr>\n",
              "      <td>38422</td>\n",
              "      <td>smart</td>\n",
              "      <td>fortwo coupe</td>\n",
              "      <td>2016</td>\n",
              "      <td>0.9</td>\n",
              "      <td>3.0</td>\n",
              "      <td>Automatic (AM6)</td>\n",
              "      <td>Rear-Wheel Drive</td>\n",
              "      <td>Two Seaters</td>\n",
              "      <td>Premium</td>\n",
              "      <td>35</td>\n",
              "      <td>246.000000</td>\n",
              "    </tr>\n",
              "    <tr>\n",
              "      <td>38423</td>\n",
              "      <td>smart</td>\n",
              "      <td>fortwo coupe</td>\n",
              "      <td>2016</td>\n",
              "      <td>0.9</td>\n",
              "      <td>3.0</td>\n",
              "      <td>Manual 5-spd</td>\n",
              "      <td>Rear-Wheel Drive</td>\n",
              "      <td>Two Seaters</td>\n",
              "      <td>Premium</td>\n",
              "      <td>34</td>\n",
              "      <td>255.000000</td>\n",
              "    </tr>\n",
              "    <tr>\n",
              "      <td>38424</td>\n",
              "      <td>smart</td>\n",
              "      <td>fortwo coupe</td>\n",
              "      <td>2017</td>\n",
              "      <td>0.9</td>\n",
              "      <td>3.0</td>\n",
              "      <td>Automatic (AM6)</td>\n",
              "      <td>Rear-Wheel Drive</td>\n",
              "      <td>Two Seaters</td>\n",
              "      <td>Premium</td>\n",
              "      <td>35</td>\n",
              "      <td>248.000000</td>\n",
              "    </tr>\n",
              "    <tr>\n",
              "      <td>38425</td>\n",
              "      <td>smart</td>\n",
              "      <td>fortwo coupe</td>\n",
              "      <td>2017</td>\n",
              "      <td>0.9</td>\n",
              "      <td>3.0</td>\n",
              "      <td>Manual 5-spd</td>\n",
              "      <td>Rear-Wheel Drive</td>\n",
              "      <td>Two Seaters</td>\n",
              "      <td>Premium</td>\n",
              "      <td>34</td>\n",
              "      <td>257.000000</td>\n",
              "    </tr>\n",
              "  </tbody>\n",
              "</table>\n",
              "<p>38297 rows × 11 columns</p>\n",
              "</div>"
            ],
            "text/plain": [
              "       fabricante               modelo  year  desplazamiento  cilindros  \\\n",
              "0      AM General    DJ Po Vehicle 2WD  1984             2.5        4.0   \n",
              "1      AM General    DJ Po Vehicle 2WD  1984             2.5        4.0   \n",
              "2      AM General     FJ8c Post Office  1984             4.2        6.0   \n",
              "3      AM General     FJ8c Post Office  1984             4.2        6.0   \n",
              "4      AM General  Post Office DJ5 2WD  1985             2.5        4.0   \n",
              "...           ...                  ...   ...             ...        ...   \n",
              "38421       smart         fortwo coupe  2015             1.0        3.0   \n",
              "38422       smart         fortwo coupe  2016             0.9        3.0   \n",
              "38423       smart         fortwo coupe  2016             0.9        3.0   \n",
              "38424       smart         fortwo coupe  2017             0.9        3.0   \n",
              "38425       smart         fortwo coupe  2017             0.9        3.0   \n",
              "\n",
              "           transmision          traccion                        clase  \\\n",
              "0      Automatic 3-spd     2-Wheel Drive  Special Purpose Vehicle 2WD   \n",
              "1      Automatic 3-spd     2-Wheel Drive  Special Purpose Vehicle 2WD   \n",
              "2      Automatic 3-spd     2-Wheel Drive  Special Purpose Vehicle 2WD   \n",
              "3      Automatic 3-spd     2-Wheel Drive  Special Purpose Vehicle 2WD   \n",
              "4      Automatic 3-spd  Rear-Wheel Drive  Special Purpose Vehicle 2WD   \n",
              "...                ...               ...                          ...   \n",
              "38421  Automatic (AM5)  Rear-Wheel Drive                  Two Seaters   \n",
              "38422  Automatic (AM6)  Rear-Wheel Drive                  Two Seaters   \n",
              "38423     Manual 5-spd  Rear-Wheel Drive                  Two Seaters   \n",
              "38424  Automatic (AM6)  Rear-Wheel Drive                  Two Seaters   \n",
              "38425     Manual 5-spd  Rear-Wheel Drive                  Two Seaters   \n",
              "\n",
              "      combustible  consumo         co2  \n",
              "0         Regular       17  522.764706  \n",
              "1         Regular       17  522.764706  \n",
              "2         Regular       13  683.615385  \n",
              "3         Regular       13  683.615385  \n",
              "4         Regular       16  555.437500  \n",
              "...           ...      ...         ...  \n",
              "38421     Premium       36  244.000000  \n",
              "38422     Premium       35  246.000000  \n",
              "38423     Premium       34  255.000000  \n",
              "38424     Premium       35  248.000000  \n",
              "38425     Premium       34  257.000000  \n",
              "\n",
              "[38297 rows x 11 columns]"
            ]
          },
          "metadata": {
            "tags": []
          },
          "execution_count": 6
        }
      ]
    },
    {
      "cell_type": "code",
      "metadata": {
        "id": "ZAhboiXBnWZa",
        "outputId": "e6e591eb-5b7f-4f2a-f99e-68d9a1c2db42"
      },
      "source": [
        "vehiculos.shape"
      ],
      "execution_count": null,
      "outputs": [
        {
          "output_type": "execute_result",
          "data": {
            "text/plain": [
              "(38297, 11)"
            ]
          },
          "metadata": {
            "tags": []
          },
          "execution_count": 7
        }
      ]
    },
    {
      "cell_type": "markdown",
      "metadata": {
        "id": "19DgtFepnWZa"
      },
      "source": [
        "### Records duplicados"
      ]
    },
    {
      "cell_type": "markdown",
      "metadata": {
        "id": "zQ9sCw-dnWZb"
      },
      "source": [
        "Usamos la función de pandas `drop_duplicates` para remover los records duplicados"
      ]
    },
    {
      "cell_type": "code",
      "metadata": {
        "id": "ubrTNosDnWZb"
      },
      "source": [
        "vehiculos = vehiculos.drop_duplicates()"
      ],
      "execution_count": null,
      "outputs": []
    },
    {
      "cell_type": "code",
      "metadata": {
        "id": "vQIlbKmGnWZb",
        "outputId": "81cb301a-cd77-47cb-98c0-4cb90f0173a5"
      },
      "source": [
        "vehiculos.shape"
      ],
      "execution_count": null,
      "outputs": [
        {
          "output_type": "execute_result",
          "data": {
            "text/plain": [
              "(36791, 11)"
            ]
          },
          "metadata": {
            "tags": []
          },
          "execution_count": 9
        }
      ]
    },
    {
      "cell_type": "markdown",
      "metadata": {
        "id": "Z_kGui0nnWZc"
      },
      "source": [
        "### Valores Extremos (outliers)"
      ]
    },
    {
      "cell_type": "code",
      "metadata": {
        "id": "lXY9-0tenWZc",
        "outputId": "a3e0e565-44f6-4312-9dfe-e7b6b43bf290"
      },
      "source": [
        "from scipy import stats\n",
        "import numpy as np\n",
        "\n",
        "def outliers_col(df):\n",
        "    for columna in df:\n",
        "        if df[columna].dtype != np.object:\n",
        "            n_outliers = len(df[np.abs(stats.zscore(df[columna])) > 3])    \n",
        "            print(\"{} | {} | {}\".format(\n",
        "                df[columna].name,\n",
        "                n_outliers,\n",
        "                df[columna].dtype\n",
        "        ))\n",
        "\n",
        "outliers_col(vehiculos)"
      ],
      "execution_count": null,
      "outputs": [
        {
          "output_type": "stream",
          "text": [
            "year | 0 | int64\n",
            "desplazamiento | 0 | float64\n",
            "cilindros | 0 | float64\n",
            "consumo | 400 | int64\n",
            "co2 | 221 | float64\n"
          ],
          "name": "stdout"
        },
        {
          "output_type": "stream",
          "text": [
            "/opt/anaconda3/lib/python3.7/site-packages/ipykernel_launcher.py:7: RuntimeWarning: invalid value encountered in greater\n",
            "  import sys\n"
          ],
          "name": "stderr"
        }
      ]
    },
    {
      "cell_type": "code",
      "metadata": {
        "id": "jQZSfF5JnWZd",
        "outputId": "804e3fdb-a2ef-4347-b952-47ede19b3911"
      },
      "source": [
        "vehiculos.describe()"
      ],
      "execution_count": null,
      "outputs": [
        {
          "output_type": "execute_result",
          "data": {
            "text/html": [
              "<div>\n",
              "<style scoped>\n",
              "    .dataframe tbody tr th:only-of-type {\n",
              "        vertical-align: middle;\n",
              "    }\n",
              "\n",
              "    .dataframe tbody tr th {\n",
              "        vertical-align: top;\n",
              "    }\n",
              "\n",
              "    .dataframe thead th {\n",
              "        text-align: right;\n",
              "    }\n",
              "</style>\n",
              "<table border=\"1\" class=\"dataframe\">\n",
              "  <thead>\n",
              "    <tr style=\"text-align: right;\">\n",
              "      <th></th>\n",
              "      <th>year</th>\n",
              "      <th>desplazamiento</th>\n",
              "      <th>cilindros</th>\n",
              "      <th>consumo</th>\n",
              "      <th>co2</th>\n",
              "    </tr>\n",
              "  </thead>\n",
              "  <tbody>\n",
              "    <tr>\n",
              "      <td>count</td>\n",
              "      <td>36791.000000</td>\n",
              "      <td>36789.000000</td>\n",
              "      <td>36788.000000</td>\n",
              "      <td>36791.000000</td>\n",
              "      <td>36791.000000</td>\n",
              "    </tr>\n",
              "    <tr>\n",
              "      <td>mean</td>\n",
              "      <td>2000.787421</td>\n",
              "      <td>3.321786</td>\n",
              "      <td>5.746493</td>\n",
              "      <td>20.012068</td>\n",
              "      <td>473.185008</td>\n",
              "    </tr>\n",
              "    <tr>\n",
              "      <td>std</td>\n",
              "      <td>10.374662</td>\n",
              "      <td>1.359945</td>\n",
              "      <td>1.758009</td>\n",
              "      <td>5.109608</td>\n",
              "      <td>118.833905</td>\n",
              "    </tr>\n",
              "    <tr>\n",
              "      <td>min</td>\n",
              "      <td>1984.000000</td>\n",
              "      <td>0.600000</td>\n",
              "      <td>2.000000</td>\n",
              "      <td>7.000000</td>\n",
              "      <td>29.000000</td>\n",
              "    </tr>\n",
              "    <tr>\n",
              "      <td>25%</td>\n",
              "      <td>1991.000000</td>\n",
              "      <td>2.200000</td>\n",
              "      <td>4.000000</td>\n",
              "      <td>17.000000</td>\n",
              "      <td>386.391304</td>\n",
              "    </tr>\n",
              "    <tr>\n",
              "      <td>50%</td>\n",
              "      <td>2002.000000</td>\n",
              "      <td>3.000000</td>\n",
              "      <td>6.000000</td>\n",
              "      <td>19.000000</td>\n",
              "      <td>466.000000</td>\n",
              "    </tr>\n",
              "    <tr>\n",
              "      <td>75%</td>\n",
              "      <td>2010.000000</td>\n",
              "      <td>4.300000</td>\n",
              "      <td>6.000000</td>\n",
              "      <td>23.000000</td>\n",
              "      <td>555.437500</td>\n",
              "    </tr>\n",
              "    <tr>\n",
              "      <td>max</td>\n",
              "      <td>2018.000000</td>\n",
              "      <td>8.400000</td>\n",
              "      <td>16.000000</td>\n",
              "      <td>58.000000</td>\n",
              "      <td>1269.571429</td>\n",
              "    </tr>\n",
              "  </tbody>\n",
              "</table>\n",
              "</div>"
            ],
            "text/plain": [
              "               year  desplazamiento     cilindros       consumo           co2\n",
              "count  36791.000000    36789.000000  36788.000000  36791.000000  36791.000000\n",
              "mean    2000.787421        3.321786      5.746493     20.012068    473.185008\n",
              "std       10.374662        1.359945      1.758009      5.109608    118.833905\n",
              "min     1984.000000        0.600000      2.000000      7.000000     29.000000\n",
              "25%     1991.000000        2.200000      4.000000     17.000000    386.391304\n",
              "50%     2002.000000        3.000000      6.000000     19.000000    466.000000\n",
              "75%     2010.000000        4.300000      6.000000     23.000000    555.437500\n",
              "max     2018.000000        8.400000     16.000000     58.000000   1269.571429"
            ]
          },
          "metadata": {
            "tags": []
          },
          "execution_count": 11
        }
      ]
    },
    {
      "cell_type": "code",
      "metadata": {
        "id": "0MudHZn4nWZd",
        "outputId": "bf38cae0-ee72-4237-954b-4c37cde5b1bf"
      },
      "source": [
        "consumo_min = vehiculos.consumo.mean() - 3*vehiculos.consumo.std()\n",
        "consumo_max = vehiculos.consumo.mean() + 3*vehiculos.consumo.std()\n",
        "print(consumo_min, consumo_max)\n",
        "\n",
        "co2_min = vehiculos.co2.mean() - 3*vehiculos.co2.std()\n",
        "co2_max = vehiculos.co2.mean() + 3*vehiculos.co2.std()\n",
        "print(co2_min, co2_max)"
      ],
      "execution_count": null,
      "outputs": [
        {
          "output_type": "stream",
          "text": [
            "4.6832452329136025 35.34089110477768\n",
            "116.68329326817047 829.6867227313555\n"
          ],
          "name": "stdout"
        }
      ]
    },
    {
      "cell_type": "code",
      "metadata": {
        "id": "A35XBVNcnWZe"
      },
      "source": [
        "vehiculos = vehiculos[\n",
        "    (np.abs(stats.zscore(vehiculos.consumo)) < 3)  & \\\n",
        "    (np.abs(stats.zscore(vehiculos.co2)) < 3)\n",
        "]"
      ],
      "execution_count": null,
      "outputs": []
    },
    {
      "cell_type": "code",
      "metadata": {
        "id": "MHYF7LALnWZe",
        "outputId": "730c5be9-c16c-42de-e96f-30d3ee1958f2"
      },
      "source": [
        "vehiculos.shape"
      ],
      "execution_count": null,
      "outputs": [
        {
          "output_type": "execute_result",
          "data": {
            "text/plain": [
              "(36185, 11)"
            ]
          },
          "metadata": {
            "tags": []
          },
          "execution_count": 14
        }
      ]
    },
    {
      "cell_type": "code",
      "metadata": {
        "id": "e_RPg4f_nWZf",
        "outputId": "47bbddd3-f3d6-4e53-e64a-e7f75ee3697e"
      },
      "source": [
        "vehiculos.describe()"
      ],
      "execution_count": null,
      "outputs": [
        {
          "output_type": "execute_result",
          "data": {
            "text/html": [
              "<div>\n",
              "<style scoped>\n",
              "    .dataframe tbody tr th:only-of-type {\n",
              "        vertical-align: middle;\n",
              "    }\n",
              "\n",
              "    .dataframe tbody tr th {\n",
              "        vertical-align: top;\n",
              "    }\n",
              "\n",
              "    .dataframe thead th {\n",
              "        text-align: right;\n",
              "    }\n",
              "</style>\n",
              "<table border=\"1\" class=\"dataframe\">\n",
              "  <thead>\n",
              "    <tr style=\"text-align: right;\">\n",
              "      <th></th>\n",
              "      <th>year</th>\n",
              "      <th>desplazamiento</th>\n",
              "      <th>cilindros</th>\n",
              "      <th>consumo</th>\n",
              "      <th>co2</th>\n",
              "    </tr>\n",
              "  </thead>\n",
              "  <tbody>\n",
              "    <tr>\n",
              "      <td>count</td>\n",
              "      <td>36185.000000</td>\n",
              "      <td>36183.000000</td>\n",
              "      <td>36182.000000</td>\n",
              "      <td>36185.000000</td>\n",
              "      <td>36185.000000</td>\n",
              "    </tr>\n",
              "    <tr>\n",
              "      <td>mean</td>\n",
              "      <td>2000.799281</td>\n",
              "      <td>3.326051</td>\n",
              "      <td>5.750290</td>\n",
              "      <td>19.842366</td>\n",
              "      <td>473.442286</td>\n",
              "    </tr>\n",
              "    <tr>\n",
              "      <td>std</td>\n",
              "      <td>10.342556</td>\n",
              "      <td>1.340777</td>\n",
              "      <td>1.733438</td>\n",
              "      <td>4.587177</td>\n",
              "      <td>110.906946</td>\n",
              "    </tr>\n",
              "    <tr>\n",
              "      <td>min</td>\n",
              "      <td>1984.000000</td>\n",
              "      <td>0.900000</td>\n",
              "      <td>2.000000</td>\n",
              "      <td>9.000000</td>\n",
              "      <td>144.000000</td>\n",
              "    </tr>\n",
              "    <tr>\n",
              "      <td>25%</td>\n",
              "      <td>1991.000000</td>\n",
              "      <td>2.200000</td>\n",
              "      <td>4.000000</td>\n",
              "      <td>17.000000</td>\n",
              "      <td>394.000000</td>\n",
              "    </tr>\n",
              "    <tr>\n",
              "      <td>50%</td>\n",
              "      <td>2002.000000</td>\n",
              "      <td>3.000000</td>\n",
              "      <td>6.000000</td>\n",
              "      <td>19.000000</td>\n",
              "      <td>467.736842</td>\n",
              "    </tr>\n",
              "    <tr>\n",
              "      <td>75%</td>\n",
              "      <td>2010.000000</td>\n",
              "      <td>4.300000</td>\n",
              "      <td>6.000000</td>\n",
              "      <td>23.000000</td>\n",
              "      <td>552.000000</td>\n",
              "    </tr>\n",
              "    <tr>\n",
              "      <td>max</td>\n",
              "      <td>2018.000000</td>\n",
              "      <td>8.400000</td>\n",
              "      <td>12.000000</td>\n",
              "      <td>35.000000</td>\n",
              "      <td>829.000000</td>\n",
              "    </tr>\n",
              "  </tbody>\n",
              "</table>\n",
              "</div>"
            ],
            "text/plain": [
              "               year  desplazamiento     cilindros       consumo           co2\n",
              "count  36185.000000    36183.000000  36182.000000  36185.000000  36185.000000\n",
              "mean    2000.799281        3.326051      5.750290     19.842366    473.442286\n",
              "std       10.342556        1.340777      1.733438      4.587177    110.906946\n",
              "min     1984.000000        0.900000      2.000000      9.000000    144.000000\n",
              "25%     1991.000000        2.200000      4.000000     17.000000    394.000000\n",
              "50%     2002.000000        3.000000      6.000000     19.000000    467.736842\n",
              "75%     2010.000000        4.300000      6.000000     23.000000    552.000000\n",
              "max     2018.000000        8.400000     12.000000     35.000000    829.000000"
            ]
          },
          "metadata": {
            "tags": []
          },
          "execution_count": 15
        }
      ]
    },
    {
      "cell_type": "markdown",
      "metadata": {
        "id": "HsxPe7t0nWZg"
      },
      "source": [
        "Vemos que aunque hemos removido los outliers, al haber cambiado la distribución del dataset se generan nuevos outliers"
      ]
    },
    {
      "cell_type": "code",
      "metadata": {
        "id": "cCS00tkjnWZg",
        "outputId": "69aa43e8-5a4e-4f14-c778-d3a08cceea6e"
      },
      "source": [
        "outliers_col(vehiculos)"
      ],
      "execution_count": null,
      "outputs": [
        {
          "output_type": "stream",
          "text": [
            "year | 0 | int64\n",
            "desplazamiento | 0 | float64\n",
            "cilindros | 0 | float64\n",
            "consumo | 213 | int64\n",
            "co2 | 424 | float64\n"
          ],
          "name": "stdout"
        },
        {
          "output_type": "stream",
          "text": [
            "/opt/anaconda3/lib/python3.7/site-packages/ipykernel_launcher.py:7: RuntimeWarning: invalid value encountered in greater\n",
            "  import sys\n"
          ],
          "name": "stderr"
        }
      ]
    },
    {
      "cell_type": "markdown",
      "metadata": {
        "id": "NoUkdWbLnWZh"
      },
      "source": [
        "Para eliminar esto simplemente repetimos el proceso hasta que no queden valores extremos"
      ]
    },
    {
      "cell_type": "code",
      "metadata": {
        "id": "NVWc9u9_nWZh",
        "outputId": "28d4d4f8-6df8-45e8-a162-5e0b71956f29"
      },
      "source": [
        "vehiculos = vehiculos[\n",
        "    (np.abs(stats.zscore(vehiculos.consumo)) < 3)  & \\\n",
        "    (np.abs(stats.zscore(vehiculos.co2)) < 3)\n",
        "]\n",
        "\n",
        "outliers_col(vehiculos)\n",
        "vehiculos.shape"
      ],
      "execution_count": null,
      "outputs": [
        {
          "output_type": "stream",
          "text": [
            "year | 0 | int64\n",
            "desplazamiento | 0 | float64\n",
            "cilindros | 0 | float64\n",
            "consumo | 0 | int64\n",
            "co2 | 9 | float64\n"
          ],
          "name": "stdout"
        },
        {
          "output_type": "stream",
          "text": [
            "/opt/anaconda3/lib/python3.7/site-packages/ipykernel_launcher.py:7: RuntimeWarning: invalid value encountered in greater\n",
            "  import sys\n"
          ],
          "name": "stderr"
        },
        {
          "output_type": "execute_result",
          "data": {
            "text/plain": [
              "(35548, 11)"
            ]
          },
          "metadata": {
            "tags": []
          },
          "execution_count": 17
        }
      ]
    },
    {
      "cell_type": "code",
      "metadata": {
        "id": "l0Vm-NOanWZi",
        "outputId": "fa394c3c-eb43-40e2-aae2-2a0d2845f2a0"
      },
      "source": [
        "vehiculos = vehiculos[\n",
        "    (np.abs(stats.zscore(vehiculos.consumo)) < 3)  & \\\n",
        "    (np.abs(stats.zscore(vehiculos.co2)) < 3)\n",
        "]\n",
        "\n",
        "outliers_col(vehiculos)\n",
        "vehiculos.shape"
      ],
      "execution_count": null,
      "outputs": [
        {
          "output_type": "stream",
          "text": [
            "year | 0 | int64\n",
            "desplazamiento | 0 | float64\n",
            "cilindros | 0 | float64\n",
            "consumo | 0 | int64\n",
            "co2 | 0 | float64\n"
          ],
          "name": "stdout"
        },
        {
          "output_type": "stream",
          "text": [
            "/opt/anaconda3/lib/python3.7/site-packages/ipykernel_launcher.py:7: RuntimeWarning: invalid value encountered in greater\n",
            "  import sys\n"
          ],
          "name": "stderr"
        },
        {
          "output_type": "execute_result",
          "data": {
            "text/plain": [
              "(35539, 11)"
            ]
          },
          "metadata": {
            "tags": []
          },
          "execution_count": 18
        }
      ]
    },
    {
      "cell_type": "markdown",
      "metadata": {
        "id": "qV6ruFXnnWZi"
      },
      "source": [
        "### Valores inexistentes"
      ]
    },
    {
      "cell_type": "code",
      "metadata": {
        "id": "4rgeiHCVnWZj",
        "outputId": "022c3bde-3c10-4fe3-fe37-21917a3eeb93"
      },
      "source": [
        "n_records = len(vehiculos)\n",
        "def valores_inexistentes_col(df):\n",
        "    for columna in df:\n",
        "        print(\"{} | {} | {}\".format(\n",
        "            df[columna].name, len(df[df[columna].isnull()]) / (1.0*n_records), df[columna].dtype\n",
        "        ))\n",
        "\n",
        "valores_inexistentes_col(vehiculos)"
      ],
      "execution_count": null,
      "outputs": [
        {
          "output_type": "stream",
          "text": [
            "fabricante | 0.0 | object\n",
            "modelo | 0.0 | object\n",
            "year | 0.0 | int64\n",
            "desplazamiento | 5.627620360730465e-05 | float64\n",
            "cilindros | 8.441430541095698e-05 | float64\n",
            "transmision | 2.8138101803652325e-05 | object\n",
            "traccion | 0.02093474774191733 | object\n",
            "clase | 0.0 | object\n",
            "combustible | 0.0 | object\n",
            "consumo | 0.0 | int64\n",
            "co2 | 0.0 | float64\n"
          ],
          "name": "stdout"
        }
      ]
    },
    {
      "cell_type": "markdown",
      "metadata": {
        "id": "A-MN04VOnWZj"
      },
      "source": [
        "Muchos algoritmos de Machine Learning requieren que no existan valores inexistentes (o NaN como se llaman a veces).\n",
        "\n",
        "Hay varias técnicas para tratar dichos valores:"
      ]
    },
    {
      "cell_type": "markdown",
      "metadata": {
        "id": "Y6h0mSpSnWZk"
      },
      "source": [
        "1. eliminar records con valores inexistentes"
      ]
    },
    {
      "cell_type": "code",
      "metadata": {
        "id": "2jfDjFlunWZk",
        "outputId": "d2b9852c-71fe-4574-b7f2-42c2c6dfdf7c"
      },
      "source": [
        "vehiculos_sin_null = vehiculos.dropna(subset=[\"transmision\", \"desplazamiento\", \"cilindros\"])\n",
        "\n",
        "vehiculos_sin_null.shape"
      ],
      "execution_count": null,
      "outputs": [
        {
          "output_type": "execute_result",
          "data": {
            "text/plain": [
              "(35535, 11)"
            ]
          },
          "metadata": {
            "tags": []
          },
          "execution_count": 20
        }
      ]
    },
    {
      "cell_type": "markdown",
      "metadata": {
        "id": "3tVHclIrnWZl"
      },
      "source": [
        "2.Reemplazar los valores inexistentes con un valor en particular. Por ejemplo 0 o \"null\" Es una forma simple de tratar estos valores pero añade un monton de ruido (asume que los valores inexistentes lo son por un motivo en concreto)"
      ]
    },
    {
      "cell_type": "code",
      "metadata": {
        "id": "kCfFEMcxnWZl",
        "outputId": "38434280-c6a7-4b5e-82d4-8be9737c66b0"
      },
      "source": [
        "vehiculos[\"transmision_imp\"] = vehiculos.transmision.fillna(\"sin transmision\")\n",
        "vehiculos[\"desplazamiento_imp\"] = vehiculos.desplazamiento.fillna(0)\n",
        "vehiculos[\"cilindros_imp\"] = vehiculos.cilindros.fillna(0)\n",
        "\n",
        "vehiculos.shape"
      ],
      "execution_count": null,
      "outputs": [
        {
          "output_type": "execute_result",
          "data": {
            "text/plain": [
              "(35539, 14)"
            ]
          },
          "metadata": {
            "tags": []
          },
          "execution_count": 21
        }
      ]
    },
    {
      "cell_type": "markdown",
      "metadata": {
        "id": "DzHvJZJonWZm"
      },
      "source": [
        "3.\n",
        "Imputacion de datos: Reemplazar los valores inexistentes por un valor en particular, pero que está elegido con cierto criterio. Prácticas comunes de imputacion de datos son reemplazar los valores inexistentes de una variable con su media, moda o mediana."
      ]
    },
    {
      "cell_type": "code",
      "metadata": {
        "id": "EYtuXFwVnWZm"
      },
      "source": [
        "transmision_moda = vehiculos.transmision.mode().values[0]\n",
        "cilindros_moda = vehiculos.cilindros.mode().values[0]\n",
        "desplazamiento_mediana = vehiculos.desplazamiento.median()\n",
        "\n",
        "vehiculos.transmision = vehiculos.transmision.fillna(transmision_moda)\n",
        "vehiculos.desplazamiento = vehiculos.desplazamiento.fillna(desplazamiento_mediana)\n",
        "vehiculos.cilindros = vehiculos.cilindros.fillna(cilindros_moda)"
      ],
      "execution_count": null,
      "outputs": []
    },
    {
      "cell_type": "code",
      "metadata": {
        "id": "gv3gbTeDnWZn",
        "outputId": "e7e8fade-8b3d-4d83-dc2c-c4b9d54681ab"
      },
      "source": [
        "vehiculos[vehiculos.transmision_imp==\"sin transmision\"]"
      ],
      "execution_count": null,
      "outputs": [
        {
          "output_type": "execute_result",
          "data": {
            "text/html": [
              "<div>\n",
              "<style>\n",
              "    .dataframe thead tr:only-child th {\n",
              "        text-align: right;\n",
              "    }\n",
              "\n",
              "    .dataframe thead th {\n",
              "        text-align: left;\n",
              "    }\n",
              "\n",
              "    .dataframe tbody tr th {\n",
              "        vertical-align: top;\n",
              "    }\n",
              "</style>\n",
              "<table border=\"1\" class=\"dataframe\">\n",
              "  <thead>\n",
              "    <tr style=\"text-align: right;\">\n",
              "      <th></th>\n",
              "      <th>fabricante</th>\n",
              "      <th>modelo</th>\n",
              "      <th>year</th>\n",
              "      <th>desplazamiento</th>\n",
              "      <th>cilindros</th>\n",
              "      <th>transmision</th>\n",
              "      <th>traccion</th>\n",
              "      <th>clase</th>\n",
              "      <th>combustible</th>\n",
              "      <th>consumo</th>\n",
              "      <th>co2</th>\n",
              "      <th>transmision_imp</th>\n",
              "      <th>desplazamiento_imp</th>\n",
              "      <th>cilindros_imp</th>\n",
              "    </tr>\n",
              "  </thead>\n",
              "  <tbody>\n",
              "    <tr>\n",
              "      <th>15458</th>\n",
              "      <td>GMC</td>\n",
              "      <td>C25 Pickup 2WD</td>\n",
              "      <td>1984</td>\n",
              "      <td>4.1</td>\n",
              "      <td>6.0</td>\n",
              "      <td>Automatic 4-spd</td>\n",
              "      <td>2-Wheel Drive</td>\n",
              "      <td>Standard Pickup Trucks 2WD</td>\n",
              "      <td>Regular</td>\n",
              "      <td>14</td>\n",
              "      <td>634.785714</td>\n",
              "      <td>sin transmision</td>\n",
              "      <td>4.1</td>\n",
              "      <td>6.0</td>\n",
              "    </tr>\n",
              "  </tbody>\n",
              "</table>\n",
              "</div>"
            ],
            "text/plain": [
              "      fabricante          modelo  year  desplazamiento  cilindros  \\\n",
              "15458        GMC  C25 Pickup 2WD  1984             4.1        6.0   \n",
              "\n",
              "           transmision       traccion                       clase combustible  \\\n",
              "15458  Automatic 4-spd  2-Wheel Drive  Standard Pickup Trucks 2WD     Regular   \n",
              "\n",
              "       consumo         co2  transmision_imp  desplazamiento_imp  cilindros_imp  \n",
              "15458       14  634.785714  sin transmision                 4.1            6.0  "
            ]
          },
          "metadata": {
            "tags": []
          },
          "execution_count": 22
        }
      ]
    },
    {
      "cell_type": "code",
      "metadata": {
        "collapsed": true,
        "id": "nbrrYflMnWZo"
      },
      "source": [
        "vehiculos = vehiculos.drop([\"transmision_imp\", \"cilindros_imp\", \"desplazamiento_imp\"], \n",
        "                           axis=1)"
      ],
      "execution_count": null,
      "outputs": []
    },
    {
      "cell_type": "markdown",
      "metadata": {
        "id": "aMg1t01anWZp"
      },
      "source": [
        "Otras técnicas incluyen:\n",
        "\n",
        "\n",
        "- Usar un modelo predictivo para predecir los valores inexistentes, usando como informacion los records con la informacion completa\n",
        "\n",
        "- Metodos más sofisticados: [MICE](https://www.ncbi.nlm.nih.gov/pmc/articles/PMC3074241/), en este [repositorio](https://github.com/hammerlab/fancyimpute) hay mas métodos\n",
        "\n",
        "[Aqui](https://gallery.cortanaintelligence.com/Experiment/Methods-for-handling-missing-values-1) hay mas estrategias"
      ]
    },
    {
      "cell_type": "markdown",
      "metadata": {
        "id": "uEldF-XunWZr"
      },
      "source": [
        "### Normalizacion/Estandardizacion de variables"
      ]
    },
    {
      "cell_type": "markdown",
      "metadata": {
        "id": "f2IuJZMRnWZr"
      },
      "source": [
        "Hay dos formas en las cuales un dataset puede tener variables que haya que modificar pese a que no sean nulas/repetidas"
      ]
    },
    {
      "cell_type": "markdown",
      "metadata": {
        "id": "Rz1ECm2XnWZs"
      },
      "source": [
        "Generalmente en un dataset las variables van a tener rangos muy distintos"
      ]
    },
    {
      "cell_type": "code",
      "metadata": {
        "id": "CwrhRI7OnWZs",
        "outputId": "5d65f341-9c66-472a-d7c7-b95f0b85210b"
      },
      "source": [
        "vehiculos.describe()"
      ],
      "execution_count": null,
      "outputs": [
        {
          "output_type": "execute_result",
          "data": {
            "text/html": [
              "<div>\n",
              "<style>\n",
              "    .dataframe thead tr:only-child th {\n",
              "        text-align: right;\n",
              "    }\n",
              "\n",
              "    .dataframe thead th {\n",
              "        text-align: left;\n",
              "    }\n",
              "\n",
              "    .dataframe tbody tr th {\n",
              "        vertical-align: top;\n",
              "    }\n",
              "</style>\n",
              "<table border=\"1\" class=\"dataframe\">\n",
              "  <thead>\n",
              "    <tr style=\"text-align: right;\">\n",
              "      <th></th>\n",
              "      <th>year</th>\n",
              "      <th>desplazamiento</th>\n",
              "      <th>cilindros</th>\n",
              "      <th>consumo</th>\n",
              "      <th>co2</th>\n",
              "    </tr>\n",
              "  </thead>\n",
              "  <tbody>\n",
              "    <tr>\n",
              "      <th>count</th>\n",
              "      <td>35539.000000</td>\n",
              "      <td>35539.000000</td>\n",
              "      <td>35539.000000</td>\n",
              "      <td>35539.000000</td>\n",
              "      <td>35539.000000</td>\n",
              "    </tr>\n",
              "    <tr>\n",
              "      <th>mean</th>\n",
              "      <td>2000.893188</td>\n",
              "      <td>3.308585</td>\n",
              "      <td>5.727426</td>\n",
              "      <td>19.863277</td>\n",
              "      <td>470.607342</td>\n",
              "    </tr>\n",
              "    <tr>\n",
              "      <th>std</th>\n",
              "      <td>10.308730</td>\n",
              "      <td>1.318233</td>\n",
              "      <td>1.705600</td>\n",
              "      <td>4.383492</td>\n",
              "      <td>104.425820</td>\n",
              "    </tr>\n",
              "    <tr>\n",
              "      <th>min</th>\n",
              "      <td>1984.000000</td>\n",
              "      <td>1.000000</td>\n",
              "      <td>2.000000</td>\n",
              "      <td>10.000000</td>\n",
              "      <td>169.000000</td>\n",
              "    </tr>\n",
              "    <tr>\n",
              "      <th>25%</th>\n",
              "      <td>1991.000000</td>\n",
              "      <td>2.200000</td>\n",
              "      <td>4.000000</td>\n",
              "      <td>17.000000</td>\n",
              "      <td>396.000000</td>\n",
              "    </tr>\n",
              "    <tr>\n",
              "      <th>50%</th>\n",
              "      <td>2002.000000</td>\n",
              "      <td>3.000000</td>\n",
              "      <td>6.000000</td>\n",
              "      <td>19.000000</td>\n",
              "      <td>465.000000</td>\n",
              "    </tr>\n",
              "    <tr>\n",
              "      <th>75%</th>\n",
              "      <td>2010.000000</td>\n",
              "      <td>4.300000</td>\n",
              "      <td>6.000000</td>\n",
              "      <td>23.000000</td>\n",
              "      <td>525.000000</td>\n",
              "    </tr>\n",
              "    <tr>\n",
              "      <th>max</th>\n",
              "      <td>2018.000000</td>\n",
              "      <td>8.400000</td>\n",
              "      <td>12.000000</td>\n",
              "      <td>33.000000</td>\n",
              "      <td>782.000000</td>\n",
              "    </tr>\n",
              "  </tbody>\n",
              "</table>\n",
              "</div>"
            ],
            "text/plain": [
              "               year  desplazamiento     cilindros       consumo           co2\n",
              "count  35539.000000    35539.000000  35539.000000  35539.000000  35539.000000\n",
              "mean    2000.893188        3.308585      5.727426     19.863277    470.607342\n",
              "std       10.308730        1.318233      1.705600      4.383492    104.425820\n",
              "min     1984.000000        1.000000      2.000000     10.000000    169.000000\n",
              "25%     1991.000000        2.200000      4.000000     17.000000    396.000000\n",
              "50%     2002.000000        3.000000      6.000000     19.000000    465.000000\n",
              "75%     2010.000000        4.300000      6.000000     23.000000    525.000000\n",
              "max     2018.000000        8.400000     12.000000     33.000000    782.000000"
            ]
          },
          "metadata": {
            "tags": []
          },
          "execution_count": 24
        }
      ]
    },
    {
      "cell_type": "markdown",
      "metadata": {
        "id": "JBMoGcl9nWZt"
      },
      "source": [
        "Por ejemplo, vemos que la variable displ tiene un rango de [0,8.4], mientras que la variable `co2` tiene un rango [0. 1270]. Al aplicar ciertos tipos de modelos lo que va a pasar es que la variable `co2` va a tener mucho mas peso simplemente por que los valores que toma son más grandes."
      ]
    },
    {
      "cell_type": "markdown",
      "metadata": {
        "id": "58X-upYUnWZt"
      },
      "source": [
        "De igual forma, hay variables donde la variación de los datos es muy grande, y esto hace que para ciertos modelos sea mas dificil el aprender reglas consistentes. Por ejemplo, la variable `desplazamiento`"
      ]
    },
    {
      "cell_type": "code",
      "metadata": {
        "id": "3wRPMP7SnWZt",
        "outputId": "91478c7b-da6e-4232-fdc0-aa94ea2857cb"
      },
      "source": [
        "vehiculos.desplazamiento.plot.kde()"
      ],
      "execution_count": null,
      "outputs": [
        {
          "output_type": "execute_result",
          "data": {
            "text/plain": [
              "<matplotlib.axes._subplots.AxesSubplot at 0x7f804530ef10>"
            ]
          },
          "metadata": {
            "tags": []
          },
          "execution_count": 23
        },
        {
          "output_type": "display_data",
          "data": {
            "image/png": "[encoded data removed]",
            "text/plain": [
              "<Figure size 432x288 with 1 Axes>"
            ]
          },
          "metadata": {
            "tags": [],
            "needs_background": "light"
          }
        }
      ]
    },
    {
      "cell_type": "markdown",
      "metadata": {
        "id": "87mAAZbXnWZu"
      },
      "source": [
        "Vemos que la variable `desplazamiento` tiene un coeficiente de simetria claramente positivo con un peso mayor en la izquierda"
      ]
    },
    {
      "cell_type": "code",
      "metadata": {
        "id": "9F6KnfynnWZv"
      },
      "source": [
        "from scipy import stats"
      ],
      "execution_count": null,
      "outputs": []
    },
    {
      "cell_type": "code",
      "metadata": {
        "id": "7YGVskuFnWZv",
        "outputId": "f8bd23d0-86e9-43e7-b421-ad35da470af6"
      },
      "source": [
        "stats.skew(vehiculos.desplazamiento)"
      ],
      "execution_count": null,
      "outputs": [
        {
          "output_type": "execute_result",
          "data": {
            "text/plain": [
              "0.6267820075196722"
            ]
          },
          "metadata": {
            "tags": []
          },
          "execution_count": 25
        }
      ]
    },
    {
      "cell_type": "markdown",
      "metadata": {
        "id": "p7Iy4qMwnWZw"
      },
      "source": [
        "Hay dos técnicas principales para corregir estos dos tipos de problemas y mejorar nuestros modelos"
      ]
    },
    {
      "cell_type": "markdown",
      "metadata": {
        "id": "OZwgxzvjnWZw"
      },
      "source": [
        "**Normalización**\n",
        "\n",
        "[Normalización](https://es.wikipedia.org/wiki/Normalizaci%C3%B3n_(estad%C3%ADstica)) (también llamada *min-max scaling*)\n",
        "\n",
        "Normalización convierte una variable numérica con un rango cualquiera a un rango [0, 1]. Muchos modelos de `deep learning` exigen esto como requisito."
      ]
    },
    {
      "cell_type": "code",
      "metadata": {
        "id": "XI4KrgNYnWZw",
        "outputId": "a550f2b0-2df6-456b-e264-ae8e96bf3b80"
      },
      "source": [
        "desplazamiento_x_min = vehiculos.desplazamiento.min()\n",
        "desplazamiento_x_max = vehiculos.desplazamiento.max()\n",
        "\n",
        "desplazamiento_original = vehiculos.desplazamiento\n",
        "#hace la normalizacion\n",
        "desplazamiento_normalizado = desplazamiento_original.apply(lambda x: (x-desplazamiento_x_min) / (desplazamiento_x_max - desplazamiento_x_min))\n",
        "\n",
        "desplazamiento_normalizado.plot.hist(label=\"normalizado\")\n",
        "desplazamiento_original.plot.hist(label=\"original\")\n",
        "plt.legend();"
      ],
      "execution_count": null,
      "outputs": [
        {
          "output_type": "display_data",
          "data": {
            "image/png": "[encoded data removed]",
            "text/plain": [
              "<Figure size 432x288 with 1 Axes>"
            ]
          },
          "metadata": {
            "tags": [],
            "needs_background": "light"
          }
        }
      ]
    },
    {
      "cell_type": "markdown",
      "metadata": {
        "id": "cVlo9DcDnWZx"
      },
      "source": [
        "**Estandarización**"
      ]
    },
    {
      "cell_type": "markdown",
      "metadata": {
        "id": "3Wt5BiPUnWZx"
      },
      "source": [
        "El objetivo de la estandardización es reescalar la variable a una distribución con media 0 y desviación estándar 1.\n",
        "\n",
        "Muchos algoritmos necesitan que todas las variables tengan una distribución normal. De hecho, [la librería principal](http://scikit-learn.org/stable/modules/preprocessing.html#standardization-or-mean-removal-and-variance-scaling) que vamos a usar para Machine Learning lo especifica en su documentación.\n",
        "\n",
        "Estandarizar se puede realizar fácilmente convirtiendo cada valor a su puntuación Z, con la formula:\n",
        "\n",
        "$$\\frac{y-\\mu}{\\sigma}$$"
      ]
    },
    {
      "cell_type": "code",
      "metadata": {
        "id": "Nh2mQA3pnWZx",
        "outputId": "3a9a87c6-e33b-4077-cb38-6e82360e8a2f"
      },
      "source": [
        "desplazamiento_mu = vehiculos.desplazamiento.mean()\n",
        "desplazamiento_sigma = vehiculos.desplazamiento.std()\n",
        "\n",
        "desplazamiento_estandarizado = desplazamiento_original.apply(lambda x: (x-desplazamiento_mu) / desplazamiento_sigma)\n",
        "\n",
        "desplazamiento_estandarizado.plot.hist(label=\"standardizado\", alpha=0.5)\n",
        "desplazamiento_original.plot.hist(label=\"original\", alpha=0.5)\n",
        "plt.legend();"
      ],
      "execution_count": null,
      "outputs": [
        {
          "output_type": "display_data",
          "data": {
            "image/png": "[encoded data removed]",
            "text/plain": [
              "<Figure size 432x288 with 1 Axes>"
            ]
          },
          "metadata": {
            "tags": [],
            "needs_background": "light"
          }
        }
      ]
    },
    {
      "cell_type": "markdown",
      "metadata": {
        "id": "DLtX3CQKnWZy"
      },
      "source": [
        "En cuanto a cuando elegir normalización o estandarización, esta decisión está sujeta a debate.\n",
        "\n",
        "Si los algoritmos que se desea usar requieren una estructura de los datos concreta, entonces no hay que tomar una decisión, simplemente seguir los requisitos de dicho algoritmo.\n",
        "\n",
        "Un problema que tiene la normalización es que la distancia absoluta entre los valores del dataset al agruparlos todos en un grupo tan pequeño. Por lo tanto si los datos varían mucho es mejor probar a estandarizar primero en vez de normalizar. No obstante no es mala idea el probar ambos procesos y ver cual da mejores resultados."
      ]
    },
    {
      "cell_type": "markdown",
      "metadata": {
        "id": "8a9jKTWwnWZy"
      },
      "source": [
        "Por ejemplo, vamos a hacer un gráfico de dispersión para ver la comparación de las variables `displ` (desplazamiento del motor) y `comb08` (consumo de combustible) en funcion de si están normalizadas o estandarizadas."
      ]
    },
    {
      "cell_type": "code",
      "metadata": {
        "id": "CvpptMSXnWZy"
      },
      "source": [
        "consumo_original = vehiculos.consumo\n",
        "\n",
        "consumo_mu = consumo_original.mean()\n",
        "consumo_sigma = consumo_original.std()\n",
        "consumo_min = consumo_original.min()\n",
        "consumo_max = consumo_original.max()\n",
        "\n",
        "consumo_estandarizado = consumo_original.apply(lambda x: (x-consumo_mu)/consumo_sigma)\n",
        "consumo_normalizado = consumo_original.apply(lambda x: (x-consumo_min)/(consumo_max - consumo_min))"
      ],
      "execution_count": null,
      "outputs": []
    },
    {
      "cell_type": "code",
      "metadata": {
        "id": "3xYnlGienWZz",
        "outputId": "63da2860-9208-4f5b-f0ca-ea9430f8c4ec"
      },
      "source": [
        "plt.scatter(x=consumo_original,y=desplazamiento_original, label=\"original\")\n",
        "plt.scatter(x=consumo_estandarizado,y=desplazamiento_estandarizado, label=\"estandarizado\")\n",
        "plt.scatter(x=consumo_normalizado,y=desplazamiento_normalizado, label=\"normalizado\")\n",
        "\n",
        "plt.xlabel(\"consumo\")\n",
        "plt.ylabel(\"desplazamiento\")\n",
        "plt.title(\"Diferencias entre diferentes tipos de reescalado de variables\")\n",
        "plt.legend();"
      ],
      "execution_count": null,
      "outputs": [
        {
          "output_type": "display_data",
          "data": {
            "image/png": "[encoded data removed]",
            "text/plain": [
              "<Figure size 432x288 with 1 Axes>"
            ]
          },
          "metadata": {
            "tags": [],
            "needs_background": "light"
          }
        }
      ]
    },
    {
      "cell_type": "markdown",
      "metadata": {
        "id": "jEj2_QLSnWZ0"
      },
      "source": [
        "Vemos que cuando las variables están estandarizadas, pese a que su rango es menor (entre -3 y 3 aproximadamente) vemos que reflejan mejor la relación entre ambas variables (incluyendo el outlier en comb08).\n",
        "\n",
        "Cuando las variables estan normalizadas al estar \"encajonadas\" en el intervalo [0,1] cuesta más ver su relación cuando se comparan con la distribucion original."
      ]
    },
    {
      "cell_type": "markdown",
      "metadata": {
        "id": "MZ_lXqHjnWZ0"
      },
      "source": [
        "Esto no implica que dicha relación de la distribución se altere, simplemente que los valores que separan los elementos de la variable se ven reducidos. Esto altera como ciertos métodos de aprendizaje alcanzan soluciones óptimas"
      ]
    },
    {
      "cell_type": "code",
      "metadata": {
        "id": "WAPxvfKinWZ1",
        "outputId": "67500058-3e9a-4715-8f2a-ca28fc23a83d"
      },
      "source": [
        "plt.scatter(x=consumo_normalizado,y=desplazamiento_normalizado, label=\"normalizado\");"
      ],
      "execution_count": null,
      "outputs": [
        {
          "output_type": "display_data",
          "data": {
            "image/png": "[encoded data removed]",
            "text/plain": [
              "<matplotlib.figure.Figure at 0x7f4723862eb8>"
            ]
          },
          "metadata": {
            "tags": []
          }
        }
      ]
    },
    {
      "cell_type": "markdown",
      "metadata": {
        "id": "hcBxlLyDnWZ1"
      },
      "source": [
        "En este caso decidimos asignar dos columnas nuevas como las variables estandarizadas"
      ]
    },
    {
      "cell_type": "code",
      "metadata": {
        "collapsed": true,
        "id": "o6rQU6_0nWZ1"
      },
      "source": [
        "vehiculos[\"consumo_std\"] = consumo_estandarizado\n",
        "vehiculos[\"desplazamiento_std\"] = desplazamiento_estandarizado"
      ],
      "execution_count": null,
      "outputs": []
    },
    {
      "cell_type": "code",
      "metadata": {
        "id": "iGpyaRVVnWZ1",
        "outputId": "e8e1ae9b-8a33-4063-c664-f9bebf4f2205"
      },
      "source": [
        "vehiculos.head()"
      ],
      "execution_count": null,
      "outputs": [
        {
          "output_type": "execute_result",
          "data": {
            "text/html": [
              "<div>\n",
              "<style>\n",
              "    .dataframe thead tr:only-child th {\n",
              "        text-align: right;\n",
              "    }\n",
              "\n",
              "    .dataframe thead th {\n",
              "        text-align: left;\n",
              "    }\n",
              "\n",
              "    .dataframe tbody tr th {\n",
              "        vertical-align: top;\n",
              "    }\n",
              "</style>\n",
              "<table border=\"1\" class=\"dataframe\">\n",
              "  <thead>\n",
              "    <tr style=\"text-align: right;\">\n",
              "      <th></th>\n",
              "      <th>fabricante</th>\n",
              "      <th>modelo</th>\n",
              "      <th>year</th>\n",
              "      <th>desplazamiento</th>\n",
              "      <th>cilindros</th>\n",
              "      <th>transmision</th>\n",
              "      <th>traccion</th>\n",
              "      <th>clase</th>\n",
              "      <th>combustible</th>\n",
              "      <th>consumo</th>\n",
              "      <th>co2</th>\n",
              "      <th>consumo_std</th>\n",
              "      <th>desplazamiento_std</th>\n",
              "    </tr>\n",
              "  </thead>\n",
              "  <tbody>\n",
              "    <tr>\n",
              "      <th>0</th>\n",
              "      <td>AM General</td>\n",
              "      <td>DJ Po Vehicle 2WD</td>\n",
              "      <td>1984</td>\n",
              "      <td>2.5</td>\n",
              "      <td>4.0</td>\n",
              "      <td>Automatic 3-spd</td>\n",
              "      <td>2-Wheel Drive</td>\n",
              "      <td>Special Purpose Vehicle 2WD</td>\n",
              "      <td>Regular</td>\n",
              "      <td>17</td>\n",
              "      <td>522.764706</td>\n",
              "      <td>-0.653195</td>\n",
              "      <td>-0.613385</td>\n",
              "    </tr>\n",
              "    <tr>\n",
              "      <th>2</th>\n",
              "      <td>AM General</td>\n",
              "      <td>FJ8c Post Office</td>\n",
              "      <td>1984</td>\n",
              "      <td>4.2</td>\n",
              "      <td>6.0</td>\n",
              "      <td>Automatic 3-spd</td>\n",
              "      <td>2-Wheel Drive</td>\n",
              "      <td>Special Purpose Vehicle 2WD</td>\n",
              "      <td>Regular</td>\n",
              "      <td>13</td>\n",
              "      <td>683.615385</td>\n",
              "      <td>-1.565710</td>\n",
              "      <td>0.676220</td>\n",
              "    </tr>\n",
              "    <tr>\n",
              "      <th>4</th>\n",
              "      <td>AM General</td>\n",
              "      <td>Post Office DJ5 2WD</td>\n",
              "      <td>1985</td>\n",
              "      <td>2.5</td>\n",
              "      <td>4.0</td>\n",
              "      <td>Automatic 3-spd</td>\n",
              "      <td>Rear-Wheel Drive</td>\n",
              "      <td>Special Purpose Vehicle 2WD</td>\n",
              "      <td>Regular</td>\n",
              "      <td>16</td>\n",
              "      <td>555.437500</td>\n",
              "      <td>-0.881324</td>\n",
              "      <td>-0.613385</td>\n",
              "    </tr>\n",
              "    <tr>\n",
              "      <th>5</th>\n",
              "      <td>AM General</td>\n",
              "      <td>Post Office DJ8 2WD</td>\n",
              "      <td>1985</td>\n",
              "      <td>4.2</td>\n",
              "      <td>6.0</td>\n",
              "      <td>Automatic 3-spd</td>\n",
              "      <td>Rear-Wheel Drive</td>\n",
              "      <td>Special Purpose Vehicle 2WD</td>\n",
              "      <td>Regular</td>\n",
              "      <td>13</td>\n",
              "      <td>683.615385</td>\n",
              "      <td>-1.565710</td>\n",
              "      <td>0.676220</td>\n",
              "    </tr>\n",
              "    <tr>\n",
              "      <th>6</th>\n",
              "      <td>ASC Incorporated</td>\n",
              "      <td>GNX</td>\n",
              "      <td>1987</td>\n",
              "      <td>3.8</td>\n",
              "      <td>6.0</td>\n",
              "      <td>Automatic 4-spd</td>\n",
              "      <td>Rear-Wheel Drive</td>\n",
              "      <td>Midsize Cars</td>\n",
              "      <td>Premium</td>\n",
              "      <td>16</td>\n",
              "      <td>555.437500</td>\n",
              "      <td>-0.881324</td>\n",
              "      <td>0.372783</td>\n",
              "    </tr>\n",
              "  </tbody>\n",
              "</table>\n",
              "</div>"
            ],
            "text/plain": [
              "         fabricante               modelo  year  desplazamiento  cilindros  \\\n",
              "0        AM General    DJ Po Vehicle 2WD  1984             2.5        4.0   \n",
              "2        AM General     FJ8c Post Office  1984             4.2        6.0   \n",
              "4        AM General  Post Office DJ5 2WD  1985             2.5        4.0   \n",
              "5        AM General  Post Office DJ8 2WD  1985             4.2        6.0   \n",
              "6  ASC Incorporated                  GNX  1987             3.8        6.0   \n",
              "\n",
              "       transmision          traccion                        clase combustible  \\\n",
              "0  Automatic 3-spd     2-Wheel Drive  Special Purpose Vehicle 2WD     Regular   \n",
              "2  Automatic 3-spd     2-Wheel Drive  Special Purpose Vehicle 2WD     Regular   \n",
              "4  Automatic 3-spd  Rear-Wheel Drive  Special Purpose Vehicle 2WD     Regular   \n",
              "5  Automatic 3-spd  Rear-Wheel Drive  Special Purpose Vehicle 2WD     Regular   \n",
              "6  Automatic 4-spd  Rear-Wheel Drive                 Midsize Cars     Premium   \n",
              "\n",
              "   consumo         co2  consumo_std  desplazamiento_std  \n",
              "0       17  522.764706    -0.653195           -0.613385  \n",
              "2       13  683.615385    -1.565710            0.676220  \n",
              "4       16  555.437500    -0.881324           -0.613385  \n",
              "5       13  683.615385    -1.565710            0.676220  \n",
              "6       16  555.437500    -0.881324            0.372783  "
            ]
          },
          "metadata": {
            "tags": []
          },
          "execution_count": 34
        }
      ]
    },
    {
      "cell_type": "markdown",
      "metadata": {
        "id": "ZDRXeyvBnWZ2"
      },
      "source": [
        "Finalmente, guardamos a csv el dataset limpio"
      ]
    },
    {
      "cell_type": "code",
      "metadata": {
        "collapsed": true,
        "id": "ET-7cdWXnWZ2"
      },
      "source": [
        "vehiculos.to_csv(\"../data/vehiculos_procesado.csv\", index=False)"
      ],
      "execution_count": null,
      "outputs": []
    },
    {
      "cell_type": "markdown",
      "metadata": {
        "id": "0D-KOVvNnWZ2"
      },
      "source": [
        "### links\n",
        "\n",
        "http://sebastianraschka.com/Articles/2014_about_feature_scaling.html#about-standardization"
      ]
    }
  ]
}