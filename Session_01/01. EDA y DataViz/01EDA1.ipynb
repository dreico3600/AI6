{
  "nbformat": 4,
  "nbformat_minor": 0,
  "metadata": {
    "colab": {
      "name": "EDA1.ipynb",
      "provenance": [],
      "include_colab_link": true
    },
    "kernelspec": {
      "name": "python3",
      "display_name": "Python 3"
    },
    "language_info": {
      "name": "python"
    }
  },
  "cells": [
    {
      "cell_type": "markdown",
      "metadata": {
        "id": "view-in-github",
        "colab_type": "text"
      },
      "source": [
        "<a href=\"https://colab.research.google.com/github/dreico3600/AI6/blob/main/Session_01/01.%20EDA%20y%20DataViz/01EDA1.ipynb\" target=\"_parent\"><img src=\"https://colab.research.google.com/assets/colab-badge.svg\" alt=\"Open In Colab\"/></a>"
      ]
    },
    {
      "cell_type": "code",
      "metadata": {
        "id": "DCOPfcLrm3sH"
      },
      "source": [
        "import pandas as pd"
      ],
      "execution_count": null,
      "outputs": []
    },
    {
      "cell_type": "markdown",
      "metadata": {
        "id": "mMCY7LbhnDNp"
      },
      "source": [
        "# **Crear un Dataset**\n",
        "\n",
        "\n"
      ]
    },
    {
      "cell_type": "code",
      "metadata": {
        "id": "guovIEUZm9zP"
      },
      "source": [
        "df = pd.DataFrame(data={\"Pais\":['Ecuador','Argentina','Chile','Colombia'],\n",
        "                        \"Poblacion\":[127212000, 45167000, 47099000, 48922000]})"
      ],
      "execution_count": null,
      "outputs": []
    },
    {
      "cell_type": "markdown",
      "metadata": {
        "id": "b0XqrGndnuzt"
      },
      "source": [
        "# Ordenar "
      ]
    },
    {
      "cell_type": "code",
      "metadata": {
        "id": "pZQsBMzNntsP"
      },
      "source": [
        "df.sort_values([\"Poblacion\"], ascending=False)"
      ],
      "execution_count": null,
      "outputs": []
    },
    {
      "cell_type": "markdown",
      "metadata": {
        "id": "E0oqZGiFn6Vt"
      },
      "source": [
        "# Agregar Columna"
      ]
    },
    {
      "cell_type": "code",
      "metadata": {
        "id": "cxon0gv2ns2w"
      },
      "source": [
        "df[\"Superficie\"] = [1964375, 2780400, 505944, 1142748]\n"
      ],
      "execution_count": null,
      "outputs": []
    },
    {
      "cell_type": "markdown",
      "metadata": {
        "id": "YLOkcNO5oG8a"
      },
      "source": [
        "# Asignar un mismo valor"
      ]
    },
    {
      "cell_type": "code",
      "metadata": {
        "id": "F7JlHvzboPXB"
      },
      "source": [
        "df['Deporte']= 'Futbol'"
      ],
      "execution_count": null,
      "outputs": []
    },
    {
      "cell_type": "markdown",
      "metadata": {
        "id": "kNQbdWSQoRAu"
      },
      "source": [
        "# Eliminar una columna"
      ]
    },
    {
      "cell_type": "code",
      "metadata": {
        "id": "4Gr32LBboWUk"
      },
      "source": [
        "\n",
        "df = df.drop(['Deporte'],axis=1)"
      ],
      "execution_count": null,
      "outputs": []
    },
    {
      "cell_type": "code",
      "metadata": {
        "id": "ADZISwSpol2L"
      },
      "source": [
        "df.drop(['Superficie','Pais'], axis=1)"
      ],
      "execution_count": null,
      "outputs": []
    },
    {
      "cell_type": "markdown",
      "metadata": {
        "id": "tvD_b7CjonLv"
      },
      "source": [
        "# Agregar una nueva fila al final"
      ]
    },
    {
      "cell_type": "code",
      "metadata": {
        "id": "f5kbZkjBo-t9"
      },
      "source": [
        "cantidad_filas = len(df)"
      ],
      "execution_count": null,
      "outputs": []
    },
    {
      "cell_type": "code",
      "metadata": {
        "id": "PZgmNguJpGMm"
      },
      "source": [
        "df.loc[cantidad_filas] = [\"Kanada\", 0, 876445]"
      ],
      "execution_count": null,
      "outputs": []
    },
    {
      "cell_type": "markdown",
      "metadata": {
        "id": "f4SHZe2bpPwg"
      },
      "source": [
        "# Modificar Fila"
      ]
    },
    {
      "cell_type": "code",
      "metadata": {
        "id": "4vgunFDVpSbV"
      },
      "source": [
        "df.loc[4] = [\"Canada\", 0, 916445]"
      ],
      "execution_count": null,
      "outputs": []
    },
    {
      "cell_type": "markdown",
      "metadata": {
        "id": "SCrp9bWlplEo"
      },
      "source": [
        "# Modificar una celda"
      ]
    },
    {
      "cell_type": "code",
      "metadata": {
        "id": "fFUhmVT8pqEu"
      },
      "source": [
        "df.at[3,'Poblacion'] = 00"
      ],
      "execution_count": null,
      "outputs": []
    },
    {
      "cell_type": "markdown",
      "metadata": {
        "id": "QPxpPkv6qB5i"
      },
      "source": [
        "# Eliminar una fila"
      ]
    },
    {
      "cell_type": "code",
      "metadata": {
        "id": "0lLboq70qFdt"
      },
      "source": [
        "df.drop([3])"
      ],
      "execution_count": null,
      "outputs": []
    },
    {
      "cell_type": "markdown",
      "metadata": {
        "id": "j0Vsu15dqIY3"
      },
      "source": [
        "# Eliminar mas de una fila"
      ]
    },
    {
      "cell_type": "code",
      "metadata": {
        "id": "c5FKKC_JqXW_"
      },
      "source": [
        "df.drop([3,1])"
      ],
      "execution_count": null,
      "outputs": []
    },
    {
      "cell_type": "markdown",
      "metadata": {
        "id": "7EnG-yt7oZR4"
      },
      "source": [
        ""
      ]
    },
    {
      "cell_type": "markdown",
      "metadata": {
        "id": "D5u8cvEKqZua"
      },
      "source": [
        "# Filtrar\n",
        "## Paises cuya población sea mayor a 30 millones"
      ]
    },
    {
      "cell_type": "code",
      "metadata": {
        "id": "Yz3aO8bKrzNU"
      },
      "source": [
        "mas_de_30 = df[ df['Poblacion'] > 30000000 ]"
      ],
      "execution_count": null,
      "outputs": []
    },
    {
      "cell_type": "markdown",
      "metadata": {
        "id": "DgVaQdPHr6ys"
      },
      "source": [
        "# Buscar por un valor especifico"
      ]
    },
    {
      "cell_type": "code",
      "metadata": {
        "id": "B1EIlWkesEIH"
      },
      "source": [
        "por_nombre = df[ df['Pais'] == 'Ecuador' ]"
      ],
      "execution_count": null,
      "outputs": []
    },
    {
      "cell_type": "markdown",
      "metadata": {
        "id": "-Ks0oI6DsGbN"
      },
      "source": [
        "## Buscar paises si el nombre contiene mas de 6 letras"
      ]
    },
    {
      "cell_type": "markdown",
      "metadata": {
        "id": "VAE90mM9r3vm"
      },
      "source": [
        ""
      ]
    },
    {
      "cell_type": "code",
      "metadata": {
        "id": "hFbqreKjsWi7"
      },
      "source": [
        "nombre_largo = df[ df['Pais'].str.len() > 5 ]"
      ],
      "execution_count": null,
      "outputs": []
    },
    {
      "cell_type": "markdown",
      "metadata": {
        "id": "9M-vPS8UsZaN"
      },
      "source": [
        "# Reordenar Columnas"
      ]
    },
    {
      "cell_type": "code",
      "metadata": {
        "id": "hfCGRqt8sssj"
      },
      "source": [
        "df = df[ ['Pais','Poblacion','Superficie'] ]"
      ],
      "execution_count": null,
      "outputs": []
    },
    {
      "cell_type": "markdown",
      "metadata": {
        "id": "vgStdefrCxav"
      },
      "source": [
        "# Aumentar filas desde otra tabla"
      ]
    },
    {
      "cell_type": "code",
      "metadata": {
        "id": "yq4E0CHNC9A3"
      },
      "source": [
        "df2 = pd.DataFrame(data={\"Pais\":['Brasil','Italia'],\n",
        "                        \"Poblacion\":[210688000, 19241000],\n",
        "                        \"Superficie\":[8515770,56102]})"
      ],
      "execution_count": null,
      "outputs": []
    },
    {
      "cell_type": "code",
      "metadata": {
        "id": "EcwqpgkcDOTC"
      },
      "source": [
        "df.append(df2, ignore_index=True, sort=True)"
      ],
      "execution_count": null,
      "outputs": []
    },
    {
      "cell_type": "markdown",
      "metadata": {
        "id": "tF31RnCkDZHk"
      },
      "source": [
        "# Agrupar"
      ]
    },
    {
      "cell_type": "code",
      "metadata": {
        "id": "B7qT2O_tDb4P"
      },
      "source": [
        "grupo1 = df.groupby(['Idioma']).size()\n",
        "grupo2 = df.groupby(['Idioma']).sum()"
      ],
      "execution_count": null,
      "outputs": []
    },
    {
      "cell_type": "markdown",
      "metadata": {
        "id": "_kmvftJ4EQ-Q"
      },
      "source": [
        "# Transponer una Tabla"
      ]
    },
    {
      "cell_type": "code",
      "metadata": {
        "id": "0_eD3NWCEVa5"
      },
      "source": [
        "df.T"
      ],
      "execution_count": null,
      "outputs": []
    },
    {
      "cell_type": "markdown",
      "metadata": {
        "id": "O4r8ytwrs0BM"
      },
      "source": [
        "# Obtener informacion de los datos"
      ]
    },
    {
      "cell_type": "code",
      "metadata": {
        "id": "Kw8ollURtQci"
      },
      "source": [
        "df.info()"
      ],
      "execution_count": null,
      "outputs": []
    },
    {
      "cell_type": "markdown",
      "metadata": {
        "id": "oTahCutRtTRJ"
      },
      "source": [
        "# Obtener estadisticas de los datos"
      ]
    },
    {
      "cell_type": "code",
      "metadata": {
        "id": "8XNaufoGtd6m"
      },
      "source": [
        "df.describe()"
      ],
      "execution_count": null,
      "outputs": []
    },
    {
      "cell_type": "markdown",
      "metadata": {
        "id": "hVyQiEtvtfeL"
      },
      "source": [
        "# Dimensiones del df"
      ]
    },
    {
      "cell_type": "code",
      "metadata": {
        "id": "FXy7XQ_GtsNQ"
      },
      "source": [
        "df.shape"
      ],
      "execution_count": null,
      "outputs": []
    },
    {
      "cell_type": "markdown",
      "metadata": {
        "id": "w_oyaHBctupp"
      },
      "source": [
        "# Revisar si hay nulos"
      ]
    },
    {
      "cell_type": "code",
      "metadata": {
        "id": "607oY3n6uCxq"
      },
      "source": [
        "df.isnull().sum()"
      ],
      "execution_count": null,
      "outputs": []
    },
    {
      "cell_type": "markdown",
      "metadata": {
        "id": "40VyDL53uEnF"
      },
      "source": [
        "# Saber si hay unicos en esa columna"
      ]
    },
    {
      "cell_type": "code",
      "metadata": {
        "id": "yzQV2IPBuN3o"
      },
      "source": [
        "df.Categoria.unique()"
      ],
      "execution_count": null,
      "outputs": []
    },
    {
      "cell_type": "markdown",
      "metadata": {
        "id": "1EwQICDkuTpB"
      },
      "source": [
        "# Cantidad de unicos"
      ]
    },
    {
      "cell_type": "code",
      "metadata": {
        "id": "rwePYhAfuXDN"
      },
      "source": [
        "len(df.Categoria.unique())"
      ],
      "execution_count": null,
      "outputs": []
    },
    {
      "cell_type": "markdown",
      "metadata": {
        "id": "Kf1WaYoGuYH3"
      },
      "source": [
        "# Obtener la ultima fila"
      ]
    },
    {
      "cell_type": "code",
      "metadata": {
        "id": "-t9psjqdul-R"
      },
      "source": [
        "df.iloc[-1]"
      ],
      "execution_count": null,
      "outputs": []
    },
    {
      "cell_type": "markdown",
      "metadata": {
        "id": "22nmZ_Efuo3t"
      },
      "source": [
        ""
      ]
    }
  ]
}